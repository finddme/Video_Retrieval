{
 "cells": [
  {
   "cell_type": "markdown",
   "id": "334cbc53-1a83-4fe7-8963-01a6b566b5f5",
   "metadata": {
    "jp-MarkdownHeadingCollapsed": true
   },
   "source": [
    "# 특정 class에서 특정 value 뽑기"
   ]
  },
  {
   "cell_type": "code",
   "execution_count": 23,
   "id": "70ad2c17-7fbf-4fa8-8c6c-1dc7cd16af25",
   "metadata": {},
   "outputs": [
    {
     "name": "stdout",
     "output_type": "stream",
     "text": [
      "results: 3\n"
     ]
    },
    {
     "name": "stderr",
     "output_type": "stream",
     "text": [
      "/tmp/ipykernel_7442/886462868.py:9: DeprecationWarning: \n",
      "Python client v3 `weaviate.Client(...)` connections and methods are deprecated and will\n",
      "            be removed by 2024-11-30.\n",
      "\n",
      "            Upgrade your code to use Python client v4 `weaviate.WeaviateClient` connections and methods.\n",
      "                - For Python Client v4 usage, see: https://weaviate.io/developers/weaviate/client-libraries/python\n",
      "                - For code migration, see: https://weaviate.io/developers/weaviate/client-libraries/python/v3_v4_migration\n",
      "\n",
      "            If you have to use v3 code, install the v3 client and pin the v3 dependency in your requirements file: `weaviate-client>=3.26.7;<4.0.0`\n",
      "  client = weaviate.Client(\"http://115.71.28.105:2448\")\n"
     ]
    }
   ],
   "source": [
    "import weaviate\n",
    "import json\n",
    "\n",
    "\n",
    "def get_all_data_in_specific_value(class_name,\n",
    "                                   return_values:list,\n",
    "                                   path_value,\n",
    "                                    valuestring):\n",
    "    client = weaviate.Client(\"http://115.71.28.105:2448\") \n",
    "    class_name=class_name.capitalize()\n",
    "    try:\n",
    "        result = (\n",
    "            client.query\n",
    "            .get(class_name, return_values)\n",
    "            .with_where({\n",
    "                \"path\": [path_value],\n",
    "                \"operator\": \"Equal\",\n",
    "                \"valueString\": valuestring\n",
    "            })\n",
    "            .do()\n",
    "        )\n",
    "\n",
    "        if result and \"data\" in result and \"Get\" in result[\"data\"]:\n",
    "            objects = result[\"data\"][\"Get\"][class_name]\n",
    "            print(f\"results: {len(objects)}\")\n",
    "            # for obj in objects:\n",
    "            #     print(json.dumps(obj, indent=2, ensure_ascii=False))\n",
    "            return objects\n",
    "        else:\n",
    "            print(f\"no result abour {class_name} - {path_value} - {valuestring}\")\n",
    "            return []\n",
    "\n",
    "    except Exception as e:\n",
    "        print(f\"Error: {str(e)}\")\n",
    "        return []\n",
    "\n",
    "if __name__ == \"__main__\":\n",
    "    results = get_all_data_in_specific_value(\"stt_test\",\n",
    "                                             [\"vid_title\", \"text\", \"end\"],\n",
    "                                             \"vid_title\",\n",
    "                                            \"고윤정처럼_알람_맞추는_사람_손_들어___‘인간샤넬’이_평생_입고_싶은_컬러_한_가지는?__언더더씬___ELLE_KOREA\")\n",
    "# client.close()"
   ]
  },
  {
   "cell_type": "code",
   "execution_count": 24,
   "id": "8209f36a-4b60-4448-8bb1-e35137501264",
   "metadata": {
    "scrolled": true
   },
   "outputs": [
    {
     "data": {
      "text/plain": [
       "'하나 둘 셋 안녕하세요 엘르 고윤정입니다 여기는 샤넬과 함께하는 엘르 디에디션 촬영장입니다 제가 초록색을 좋아해서 평소보다 유독 컨디션이 좋았던 것 같은 느낌이 듭니다 이게 크루즈 컬렉션 옷이라서 얼마 전에 갔던 마르세유에 다시 한번 가보고 싶습니다 평소에 안하던 걸 해보고 싶어요 길 가다가 꽃 같은 걸 산다던가 바닷가에 멈춰서 바람 한번 쐬고 그런 여유있고 낭만적인 걸 하고 오고 싶습니다 블랙? 편하게 자주 손이 가는 것 같아요 초록색 옷은 거의 없는 것 같아요 도전해 보는 것도 좋을 것 같다고 생각이 듭니다 잠이요\\n잠 잘 시간이 별로 없어서 어떻게 하면 효율적으로 적은 수면시간으로 최대 효과를 끌어낼 수 있을지 고민에 푹 빠져있는 것 같아요 살면서요 한번 잠들면 절대 안 깨거든요 화장실도 안 가고 근데 그렇다고 그렇게 오래 자지는 않아요 13시간? 긴 건 아 13시간 참 아 13시간 참 루틴이 거의 없는 것 같은데 자기 전에 알람 맞추는 거 저 3분마다 5번 정도 맞춰요 그러면 5번째에 깨더라고요 피곤해요 근데 일어나서 가야 되긴 하니까 어제 많이 잤어요 어제 5시간 잤어요 클래식 샤넬이 갖고 있는 브랜드 이름이라는 거 이상의 가치가 이상의 가치가 있다고 생각이 들어서 샤넬은 타임리스한 브랜드 같다는 생각이 들어서 샤넬은 타임리스한 브랜드 같다는 생각이 들어서 다 너무 예뻤는데 잘 안 잤어요 다 너무 예뻤는데 잘 안 잤어요 잘 안 잤어요 피곤해요 근데 일어나서 가야 되긴 하니까 어제 많이 잤어요 어제 5시간 잤어요 클래식 샤넬이 갖고 있는 어떤 브랜드 이름이라는 거 이상의 가치가 있다고 생각이 들어서\\n샤넬은 타임리스한 브랜드 같다는 생각이 듭니다 다 너무 예뻤는데 처음에 입었던 트위드 투피스 셋업인데 후드가 달린 착장이 있어요 샤넬 하면 좀 클래식하고 우아하고 그런 이미지가 우선적으로 떠오르는데 후드가 들어가니까 되게 캐주얼하고 신선한 느낌도 들어서 가장 기억에 남는 것 같습니다 오늘 이렇게 엘르와 함께 촬영을 해봤는데요 앞으로 나올 엘르 화보도 그리고 저 고윤정도 많이 기대해주시고 응원해주세요 감사합니다 어디까지 잘 지냈 seeking 도움이 защirie UCimate'"
      ]
     },
     "execution_count": 24,
     "metadata": {},
     "output_type": "execute_result"
    }
   ],
   "source": [
    "\"\\n\".join(list(map(lambda x: x[\"text\"], results)))"
   ]
  },
  {
   "cell_type": "code",
   "execution_count": null,
   "id": "5b51b3c9-5210-463f-9cbc-8ca65adfdfa3",
   "metadata": {},
   "outputs": [],
   "source": []
  },
  {
   "cell_type": "code",
   "execution_count": null,
   "id": "9e45c795-c2da-4319-b709-f4a4ce436907",
   "metadata": {},
   "outputs": [],
   "source": []
  },
  {
   "cell_type": "code",
   "execution_count": null,
   "id": "97807cb3-7041-4953-b25b-e380cd8d1341",
   "metadata": {},
   "outputs": [],
   "source": []
  },
  {
   "cell_type": "code",
   "execution_count": null,
   "id": "e496448d-1aec-46db-97a8-6b7d45aaee82",
   "metadata": {},
   "outputs": [],
   "source": []
  },
  {
   "cell_type": "code",
   "execution_count": null,
   "id": "b3ca1c02-7364-4d2e-b27c-50874b190929",
   "metadata": {},
   "outputs": [],
   "source": []
  },
  {
   "cell_type": "markdown",
   "id": "b44f333a-5155-40ed-9bb6-c9c851e4cc54",
   "metadata": {
    "jp-MarkdownHeadingCollapsed": true
   },
   "source": [
    "# DB 내 전체 class data 뽑기"
   ]
  },
  {
   "cell_type": "code",
   "execution_count": 35,
   "id": "fef5ee4b-4f74-4e7e-95df-38b6024dc09a",
   "metadata": {},
   "outputs": [
    {
     "name": "stdout",
     "output_type": "stream",
     "text": [
      "로드된 데이터: 8개\n",
      "\n",
      "총 8개의 데이터를 로드했습니다.\n"
     ]
    },
    {
     "name": "stderr",
     "output_type": "stream",
     "text": [
      "/tmp/ipykernel_7442/1278357656.py:11: DeprecationWarning: \n",
      "Python client v3 `weaviate.Client(...)` connections and methods are deprecated and will\n",
      "            be removed by 2024-11-30.\n",
      "\n",
      "            Upgrade your code to use Python client v4 `weaviate.WeaviateClient` connections and methods.\n",
      "                - For Python Client v4 usage, see: https://weaviate.io/developers/weaviate/client-libraries/python\n",
      "                - For code migration, see: https://weaviate.io/developers/weaviate/client-libraries/python/v3_v4_migration\n",
      "\n",
      "            If you have to use v3 code, install the v3 client and pin the v3 dependency in your requirements file: `weaviate-client>=3.26.7;<4.0.0`\n",
      "  client = weaviate.Client(\"http://115.71.28.105:2448\")\n"
     ]
    }
   ],
   "source": [
    "import weaviate\n",
    "import json\n",
    "from typing import List, Dict, Any, Optional\n",
    "\n",
    "def load_all_class_data(\n",
    "    class_name: str,\n",
    "    fields: List[str] = None,\n",
    "    batch_size: int = 100\n",
    ") -> List[Dict[str, Any]]:\n",
    "\n",
    "    client = weaviate.Client(\"http://115.71.28.105:2448\") \n",
    "\n",
    "    if fields is None:\n",
    "        try:\n",
    "            schema = client.schema.get(class_name)\n",
    "            fields = [prop['name'] for prop in schema['properties']]\n",
    "        except Exception as e:\n",
    "            print(f\"스키마 로딩 중 오류 발생: {str(e)}\")\n",
    "            fields = [\"vid_title\", \"content\"] \n",
    "\n",
    "    fields.append(\"_additional {id}\")\n",
    "\n",
    "    all_objects = []\n",
    "    offset = 0\n",
    "    \n",
    "    try:\n",
    "        while True:\n",
    "            result = (\n",
    "                client.query\n",
    "                .get(class_name, fields)\n",
    "                .with_limit(batch_size)\n",
    "                .with_offset(offset)\n",
    "                .do()\n",
    "            )\n",
    "\n",
    "            if (not result or \n",
    "                \"data\" not in result or \n",
    "                \"Get\" not in result[\"data\"] or \n",
    "                not result[\"data\"][\"Get\"][class_name]):\n",
    "                break\n",
    "\n",
    "            batch_objects = result[\"data\"][\"Get\"][class_name]\n",
    "            all_objects.extend(batch_objects)\n",
    "\n",
    "            print(f\"로드된 데이터: {len(all_objects)}개\")\n",
    "\n",
    "            if len(batch_objects) < batch_size:\n",
    "                break\n",
    "\n",
    "            offset += batch_size\n",
    "\n",
    "        print(f\"\\n총 {len(all_objects)}개의 데이터를 로드했습니다.\")\n",
    "        return all_objects\n",
    "\n",
    "    except Exception as e:\n",
    "        print(f\"데이터 로딩 중 오류 발생: {str(e)}\")\n",
    "        return all_objects\n",
    "\n",
    "def save_to_json(data: List[Dict[str, Any]], filename: str):\n",
    "    \"\"\"데이터를 JSON 파일로 저장\"\"\"\n",
    "    try:\n",
    "        with open(filename, 'w', encoding='utf-8') as f:\n",
    "            json.dump(data, f, ensure_ascii=False, indent=2)\n",
    "        print(f\"\\n데이터가 {filename}에 저장되었습니다.\")\n",
    "    except Exception as e:\n",
    "        print(f\"파일 저장 중 오류 발생: {str(e)}\")\n",
    "\n",
    "if __name__ == \"__main__\":\n",
    "    CLASS_NAME = \"Captioning_retrieval\"  \n",
    "\n",
    "    # 특정 필드만 가져오기\n",
    "    # FIELDS = [\"vid_title\", \"content\"]\n",
    "    # data = load_all_class_data(CLASS_NAME, fields=FIELDS)\n",
    "    \n",
    "    # 모든 필드 가져오기\n",
    "    data = load_all_class_data(CLASS_NAME)\n",
    "\n",
    "    # if data:\n",
    "    #     save_to_json(data, f\"{CLASS_NAME}_data.json\")"
   ]
  },
  {
   "cell_type": "code",
   "execution_count": 36,
   "id": "4ce9c398-327b-432b-8c41-849b5b79f813",
   "metadata": {
    "scrolled": true
   },
   "outputs": [
    {
     "data": {
      "text/plain": [
       "[{'_additional': {'id': '0796e0da-3292-45ad-aea7-9b43668e8a40'},\n",
       "  'caption': '이 이미지에는 한 여성이 주요한 역할을 합니다. 그녀는 흰색과 검정색의 체크 패턴의 셔츠를 입고 있으며, 목에 목걸이를 착용하고 있습니다. 그녀는 빈티지 스타일의 테이블 위에 있는 검정색 상자 위에 서 있습니다. \\n\\n그녀의 뒤에는 벽이 있으며, 그 벽에는 \"ASK ME ANYTHING\"이라는 텍스트가 붙어 있습니다. 또한, 그녀의 옆에는 \"줄거움\"과 \"책임감\"이라는 텍스트가 붙어 있습니다. \\n\\n그녀의 옆에는 테이블 위에 여러 종류의 종이가 놓여져 있습니다. 그녀의 앞에는 테이블 위에 있는 검정색 상자가 놓여져 있습니다. \\n\\n이 모든 요소는 그녀의 주변 환경을 보여주며, 그녀는 이 환경에서 어떤 역할을 하는지에 대한 정보를 제공하고 있습니다.',\n",
       "  'description': '#ELLEaskmeanything #고윤정',\n",
       "  'time': '0:05:00',\n",
       "  'url': 'https://youtu.be/Pb2WhqgUWl8?si=-qb_oyJeOknaa_aQ',\n",
       "  'vid_title': \"환혼_2_에서_이재욱과_오열한_바로_그_장면!_'희수'_vs_'낙수'_고윤정의_선택은?_고윤정의_ASK_ME_ANYTHING_____ELLE_KOREA\"},\n",
       " {'_additional': {'id': '08e2d961-143c-4755-9d0a-e68be06c77aa'},\n",
       "  'caption': \"이 이미지에는 한 여성이 주로 주목받고 있습니다. 그녀는 검정과 화이트의 체크 패턴을 한 드레스를 입고 있으며, 목에 목걸이를 착용하고 있습니다. 그녀는 오른손으로 녹색 종이를 들고 있으며, 왼손에는 엘레가 쓰여 있는 노란색 종이를 들고 있습니다. 그녀의 앞에는 'ASK ME ANYTHING'이라는 텍스트가 있으며, 그녀의 옆에는 'Q4'라는 텍스트가 있습니다. 그녀의 옆에는 'ELLE'이라는 텍스트가 있으며, 그녀의 옆에는 '이모지가 있나요?'라는 텍스트가 있습니다. 그녀의 옆에는 '이게를 제일 많이 싸요'라는 텍스트가 있습니다. 그녀의 옆에는 'thumbs up'이라는 텍스트가 있습니다.\",\n",
       "  'description': '#ELLEaskmeanything #고윤정',\n",
       "  'time': '0:02:00',\n",
       "  'url': 'https://youtu.be/Pb2WhqgUWl8?si=-qb_oyJeOknaa_aQ',\n",
       "  'vid_title': \"환혼_2_에서_이재욱과_오열한_바로_그_장면!_'희수'_vs_'낙수'_고윤정의_선택은?_고윤정의_ASK_ME_ANYTHING_____ELLE_KOREA\"},\n",
       " {'_additional': {'id': '0f3d3178-178a-453a-adec-fe69405d15dd'},\n",
       "  'caption': '이 이미지에는 한 여성이 주요한 역할을 하고 있습니다. 그녀는 흰색과 검은색의 체크 패턴의 재킷을 입고 있으며, 목에 목걸이를 착용하고 있습니다. 그녀는 빈 테이블 위에 있는 블랙색 상자 앞에 서 있습니다. \\n\\n테이블 위에는 여러 가지 종류의 종이가 퍼져 있습니다. 그 중 하나는 녹색, 다른 하나는 파란색, 그리고 마지막 하나는 분홍색입니다. 이 종이들은 테이블 위에 퍼져 있으며, 그 중 일부는 그녀의 앞에, 다른 일부는 그녀의 옆에 위치하고 있습니다. \\n\\n그녀의 뒤에는 갈색의 벽이 있으며, 그 벽 위에는 분홍색과 파란색의 점이 퍼져 있습니다. 이 점들은 그녀의 앞에 위치하고 있으며, 그녀의 얼굴과는 약간 떨어져 있습니다. \\n\\n이 모든 요소들은 그녀의 앞에 위치하고 있으며, 그녀는 그들 모두를 바라보고 있습니다. 그녀의 얼굴은 중립적이며, 그녀의 입술은 빨간색입니다.',\n",
       "  'description': '#ELLEaskmeanything #고윤정',\n",
       "  'time': '0:00:00',\n",
       "  'url': 'https://youtu.be/Pb2WhqgUWl8?si=-qb_oyJeOknaa_aQ',\n",
       "  'vid_title': \"환혼_2_에서_이재욱과_오열한_바로_그_장면!_'희수'_vs_'낙수'_고윤정의_선택은?_고윤정의_ASK_ME_ANYTHING_____ELLE_KOREA\"},\n",
       " {'_additional': {'id': '2dc6bdf7-596b-4885-ad98-189ab8a1a50c'},\n",
       "  'caption': '이 이미지에는 한 여성이 주요한 역할을 합니다. 그녀는 흰색과 검은색의 체크 패턴을 가진 드레스를 입고 있으며, 목에 걸린 목걸이와 귀걸이가 눈에 띍니다. 그녀의 머리에는 빈티지 스타일의 라이스 백과 함께 묶여 있습니다. 배경은 간단한 벽돌 패턴으로 이루어져 있으며, 그녀의 옆에는 \"ASK ME ANYTHING\"이라는 텍스트가 있으며, 우측 상단에는 \"ELLE\"라는 로고가 있습니다. 또한, 그녀의 앞에는 \"ELLE\"라는 로고가 있는 작은 배경이 있습니다.',\n",
       "  'description': '#ELLEaskmeanything #고윤정',\n",
       "  'time': '0:07:00',\n",
       "  'url': 'https://youtu.be/Pb2WhqgUWl8?si=-qb_oyJeOknaa_aQ',\n",
       "  'vid_title': \"환혼_2_에서_이재욱과_오열한_바로_그_장면!_'희수'_vs_'낙수'_고윤정의_선택은?_고윤정의_ASK_ME_ANYTHING_____ELLE_KOREA\"},\n",
       " {'_additional': {'id': '47ff3df0-cc18-4d32-b881-e94acd5e0968'},\n",
       "  'caption': '이 이미지에는 한 여성이 주요한 역할을 합니다. 그녀는 빈티지 스타일의 검정과 흰색 체크 패턴의 재킷을 입고 있으며, 목에 걸린 목걸이와 목줄이 그녀의 스타일을 강조합니다. 그녀는 빈티지 스타일의 책상 위에 앉아 있으며, 책상 위에는 여러 종류의 노트북과 펜이 있습니다. 책상 위에는 또한 그녀의 이름이 적힌 작은 검정색 플래카드가 있습니다. 배경은 간단한 벽돌 패턴으로, 그녀의 얼굴과 몸이 주목받도록 배치되어 있습니다.',\n",
       "  'description': '#ELLEaskmeanything #고윤정',\n",
       "  'time': '0:03:00',\n",
       "  'url': 'https://youtu.be/Pb2WhqgUWl8?si=-qb_oyJeOknaa_aQ',\n",
       "  'vid_title': \"환혼_2_에서_이재욱과_오열한_바로_그_장면!_'희수'_vs_'낙수'_고윤정의_선택은?_고윤정의_ASK_ME_ANYTHING_____ELLE_KOREA\"},\n",
       " {'_additional': {'id': '8245fb9f-67be-47a6-89b1-8b9fd0813626'},\n",
       "  'caption': '이 이미지에는 한 여성이 주요한 주제입니다. 그녀는 빈티지한 배경 앞에서 서 있으며, 그녀의 옷은 검정과 흰색의 체크 패턴을 가지고 있습니다. 그녀는 목에 목걸이를 착용하고 있으며, 목걸이는 금색의 체인과 함께 있습니다. 그녀의 머리는 뒤로 묶어져 있으며, 그녀의 얼굴에는 한국어가 표시되어 있습니다. 이미지의 왼쪽에는 \"ASK ME ANYTHING\"이라는 텍스트가 있으며, 오른쪽에는 \"ELLE\"라는 로고가 있습니다.',\n",
       "  'description': '#ELLEaskmeanything #고윤정',\n",
       "  'time': '0:06:00',\n",
       "  'url': 'https://youtu.be/Pb2WhqgUWl8?si=-qb_oyJeOknaa_aQ',\n",
       "  'vid_title': \"환혼_2_에서_이재욱과_오열한_바로_그_장면!_'희수'_vs_'낙수'_고윤정의_선택은?_고윤정의_ASK_ME_ANYTHING_____ELLE_KOREA\"},\n",
       " {'_additional': {'id': '9fdb419f-1e40-4666-80d6-770a29b385bc'},\n",
       "  'caption': '이 이미지에는 한 여성이 주요한 역할을 합니다. 그녀는 흰색과 검은색의 체크 패턴을 가진 드레스를 입고 있으며, 목에 걸린 금색 목걸이는 그녀의 얼굴을 더욱 돋보이게 합니다. 그녀는 손에 들고 있는 녹색 물병을 보고 웃고 있습니다. 배경에는 간단한 선과 원이 그려져 있으며, 우측 상단에는 \"ELLE\"라는 글자가 적혀 있습니다.',\n",
       "  'description': '#ELLEaskmeanything #고윤정',\n",
       "  'time': '0:04:00',\n",
       "  'url': 'https://youtu.be/Pb2WhqgUWl8?si=-qb_oyJeOknaa_aQ',\n",
       "  'vid_title': \"환혼_2_에서_이재욱과_오열한_바로_그_장면!_'희수'_vs_'낙수'_고윤정의_선택은?_고윤정의_ASK_ME_ANYTHING_____ELLE_KOREA\"},\n",
       " {'_additional': {'id': 'd86fccc0-6eb3-43cd-a7c3-29104a80211b'},\n",
       "  'caption': '이 이미지에는 한 여성이 주요한 역할을 하고 있습니다. 그녀는 빈 벽 앞에 서 있으며, 그녀의 옷은 검정과 흰색의 체크 패턴을 가지고 있습니다. 그녀는 목에 목걸이를 착용하고 있으며, 목걸이는 반짝이는 크리스탈로 장식되어 있습니다. 그녀의 입술은 빨간색으로 그리고, 그녀의 눈은 빛나는 눈동자를 가지고 있습니다. 그녀의 머리는 뒤로 묶어졌으며, 그녀의 손은 보이지 않습니다. 이미지의 왼쪽에는 \"ASK ME ANYTHING\"이라는 텍스트가 있으며, 오른쪽에는 \"ELLE\"라는 로고가 있습니다.',\n",
       "  'description': '#ELLEaskmeanything #고윤정',\n",
       "  'time': '0:01:00',\n",
       "  'url': 'https://youtu.be/Pb2WhqgUWl8?si=-qb_oyJeOknaa_aQ',\n",
       "  'vid_title': \"환혼_2_에서_이재욱과_오열한_바로_그_장면!_'희수'_vs_'낙수'_고윤정의_선택은?_고윤정의_ASK_ME_ANYTHING_____ELLE_KOREA\"}]"
      ]
     },
     "execution_count": 36,
     "metadata": {},
     "output_type": "execute_result"
    }
   ],
   "source": [
    "data"
   ]
  },
  {
   "cell_type": "code",
   "execution_count": 37,
   "id": "4824329b-ae8b-4385-b164-08d632ac8a88",
   "metadata": {
    "collapsed": true,
    "jupyter": {
     "outputs_hidden": true
    }
   },
   "outputs": [
    {
     "data": {
      "text/plain": [
       "[{'_additional': {'id': '0f3d3178-178a-453a-adec-fe69405d15dd'},\n",
       "  'caption': '이 이미지에는 한 여성이 주요한 역할을 하고 있습니다. 그녀는 흰색과 검은색의 체크 패턴의 재킷을 입고 있으며, 목에 목걸이를 착용하고 있습니다. 그녀는 빈 테이블 위에 있는 블랙색 상자 앞에 서 있습니다. \\n\\n테이블 위에는 여러 가지 종류의 종이가 퍼져 있습니다. 그 중 하나는 녹색, 다른 하나는 파란색, 그리고 마지막 하나는 분홍색입니다. 이 종이들은 테이블 위에 퍼져 있으며, 그 중 일부는 그녀의 앞에, 다른 일부는 그녀의 옆에 위치하고 있습니다. \\n\\n그녀의 뒤에는 갈색의 벽이 있으며, 그 벽 위에는 분홍색과 파란색의 점이 퍼져 있습니다. 이 점들은 그녀의 앞에 위치하고 있으며, 그녀의 얼굴과는 약간 떨어져 있습니다. \\n\\n이 모든 요소들은 그녀의 앞에 위치하고 있으며, 그녀는 그들 모두를 바라보고 있습니다. 그녀의 얼굴은 중립적이며, 그녀의 입술은 빨간색입니다.',\n",
       "  'description': '#ELLEaskmeanything #고윤정',\n",
       "  'time': '0:00:00',\n",
       "  'url': 'https://youtu.be/Pb2WhqgUWl8?si=-qb_oyJeOknaa_aQ',\n",
       "  'vid_title': \"환혼_2_에서_이재욱과_오열한_바로_그_장면!_'희수'_vs_'낙수'_고윤정의_선택은?_고윤정의_ASK_ME_ANYTHING_____ELLE_KOREA\"},\n",
       " {'_additional': {'id': 'd86fccc0-6eb3-43cd-a7c3-29104a80211b'},\n",
       "  'caption': '이 이미지에는 한 여성이 주요한 역할을 하고 있습니다. 그녀는 빈 벽 앞에 서 있으며, 그녀의 옷은 검정과 흰색의 체크 패턴을 가지고 있습니다. 그녀는 목에 목걸이를 착용하고 있으며, 목걸이는 반짝이는 크리스탈로 장식되어 있습니다. 그녀의 입술은 빨간색으로 그리고, 그녀의 눈은 빛나는 눈동자를 가지고 있습니다. 그녀의 머리는 뒤로 묶어졌으며, 그녀의 손은 보이지 않습니다. 이미지의 왼쪽에는 \"ASK ME ANYTHING\"이라는 텍스트가 있으며, 오른쪽에는 \"ELLE\"라는 로고가 있습니다.',\n",
       "  'description': '#ELLEaskmeanything #고윤정',\n",
       "  'time': '0:01:00',\n",
       "  'url': 'https://youtu.be/Pb2WhqgUWl8?si=-qb_oyJeOknaa_aQ',\n",
       "  'vid_title': \"환혼_2_에서_이재욱과_오열한_바로_그_장면!_'희수'_vs_'낙수'_고윤정의_선택은?_고윤정의_ASK_ME_ANYTHING_____ELLE_KOREA\"},\n",
       " {'_additional': {'id': '08e2d961-143c-4755-9d0a-e68be06c77aa'},\n",
       "  'caption': \"이 이미지에는 한 여성이 주로 주목받고 있습니다. 그녀는 검정과 화이트의 체크 패턴을 한 드레스를 입고 있으며, 목에 목걸이를 착용하고 있습니다. 그녀는 오른손으로 녹색 종이를 들고 있으며, 왼손에는 엘레가 쓰여 있는 노란색 종이를 들고 있습니다. 그녀의 앞에는 'ASK ME ANYTHING'이라는 텍스트가 있으며, 그녀의 옆에는 'Q4'라는 텍스트가 있습니다. 그녀의 옆에는 'ELLE'이라는 텍스트가 있으며, 그녀의 옆에는 '이모지가 있나요?'라는 텍스트가 있습니다. 그녀의 옆에는 '이게를 제일 많이 싸요'라는 텍스트가 있습니다. 그녀의 옆에는 'thumbs up'이라는 텍스트가 있습니다.\",\n",
       "  'description': '#ELLEaskmeanything #고윤정',\n",
       "  'time': '0:02:00',\n",
       "  'url': 'https://youtu.be/Pb2WhqgUWl8?si=-qb_oyJeOknaa_aQ',\n",
       "  'vid_title': \"환혼_2_에서_이재욱과_오열한_바로_그_장면!_'희수'_vs_'낙수'_고윤정의_선택은?_고윤정의_ASK_ME_ANYTHING_____ELLE_KOREA\"},\n",
       " {'_additional': {'id': '47ff3df0-cc18-4d32-b881-e94acd5e0968'},\n",
       "  'caption': '이 이미지에는 한 여성이 주요한 역할을 합니다. 그녀는 빈티지 스타일의 검정과 흰색 체크 패턴의 재킷을 입고 있으며, 목에 걸린 목걸이와 목줄이 그녀의 스타일을 강조합니다. 그녀는 빈티지 스타일의 책상 위에 앉아 있으며, 책상 위에는 여러 종류의 노트북과 펜이 있습니다. 책상 위에는 또한 그녀의 이름이 적힌 작은 검정색 플래카드가 있습니다. 배경은 간단한 벽돌 패턴으로, 그녀의 얼굴과 몸이 주목받도록 배치되어 있습니다.',\n",
       "  'description': '#ELLEaskmeanything #고윤정',\n",
       "  'time': '0:03:00',\n",
       "  'url': 'https://youtu.be/Pb2WhqgUWl8?si=-qb_oyJeOknaa_aQ',\n",
       "  'vid_title': \"환혼_2_에서_이재욱과_오열한_바로_그_장면!_'희수'_vs_'낙수'_고윤정의_선택은?_고윤정의_ASK_ME_ANYTHING_____ELLE_KOREA\"},\n",
       " {'_additional': {'id': '9fdb419f-1e40-4666-80d6-770a29b385bc'},\n",
       "  'caption': '이 이미지에는 한 여성이 주요한 역할을 합니다. 그녀는 흰색과 검은색의 체크 패턴을 가진 드레스를 입고 있으며, 목에 걸린 금색 목걸이는 그녀의 얼굴을 더욱 돋보이게 합니다. 그녀는 손에 들고 있는 녹색 물병을 보고 웃고 있습니다. 배경에는 간단한 선과 원이 그려져 있으며, 우측 상단에는 \"ELLE\"라는 글자가 적혀 있습니다.',\n",
       "  'description': '#ELLEaskmeanything #고윤정',\n",
       "  'time': '0:04:00',\n",
       "  'url': 'https://youtu.be/Pb2WhqgUWl8?si=-qb_oyJeOknaa_aQ',\n",
       "  'vid_title': \"환혼_2_에서_이재욱과_오열한_바로_그_장면!_'희수'_vs_'낙수'_고윤정의_선택은?_고윤정의_ASK_ME_ANYTHING_____ELLE_KOREA\"},\n",
       " {'_additional': {'id': '0796e0da-3292-45ad-aea7-9b43668e8a40'},\n",
       "  'caption': '이 이미지에는 한 여성이 주요한 역할을 합니다. 그녀는 흰색과 검정색의 체크 패턴의 셔츠를 입고 있으며, 목에 목걸이를 착용하고 있습니다. 그녀는 빈티지 스타일의 테이블 위에 있는 검정색 상자 위에 서 있습니다. \\n\\n그녀의 뒤에는 벽이 있으며, 그 벽에는 \"ASK ME ANYTHING\"이라는 텍스트가 붙어 있습니다. 또한, 그녀의 옆에는 \"줄거움\"과 \"책임감\"이라는 텍스트가 붙어 있습니다. \\n\\n그녀의 옆에는 테이블 위에 여러 종류의 종이가 놓여져 있습니다. 그녀의 앞에는 테이블 위에 있는 검정색 상자가 놓여져 있습니다. \\n\\n이 모든 요소는 그녀의 주변 환경을 보여주며, 그녀는 이 환경에서 어떤 역할을 하는지에 대한 정보를 제공하고 있습니다.',\n",
       "  'description': '#ELLEaskmeanything #고윤정',\n",
       "  'time': '0:05:00',\n",
       "  'url': 'https://youtu.be/Pb2WhqgUWl8?si=-qb_oyJeOknaa_aQ',\n",
       "  'vid_title': \"환혼_2_에서_이재욱과_오열한_바로_그_장면!_'희수'_vs_'낙수'_고윤정의_선택은?_고윤정의_ASK_ME_ANYTHING_____ELLE_KOREA\"},\n",
       " {'_additional': {'id': '8245fb9f-67be-47a6-89b1-8b9fd0813626'},\n",
       "  'caption': '이 이미지에는 한 여성이 주요한 주제입니다. 그녀는 빈티지한 배경 앞에서 서 있으며, 그녀의 옷은 검정과 흰색의 체크 패턴을 가지고 있습니다. 그녀는 목에 목걸이를 착용하고 있으며, 목걸이는 금색의 체인과 함께 있습니다. 그녀의 머리는 뒤로 묶어져 있으며, 그녀의 얼굴에는 한국어가 표시되어 있습니다. 이미지의 왼쪽에는 \"ASK ME ANYTHING\"이라는 텍스트가 있으며, 오른쪽에는 \"ELLE\"라는 로고가 있습니다.',\n",
       "  'description': '#ELLEaskmeanything #고윤정',\n",
       "  'time': '0:06:00',\n",
       "  'url': 'https://youtu.be/Pb2WhqgUWl8?si=-qb_oyJeOknaa_aQ',\n",
       "  'vid_title': \"환혼_2_에서_이재욱과_오열한_바로_그_장면!_'희수'_vs_'낙수'_고윤정의_선택은?_고윤정의_ASK_ME_ANYTHING_____ELLE_KOREA\"},\n",
       " {'_additional': {'id': '2dc6bdf7-596b-4885-ad98-189ab8a1a50c'},\n",
       "  'caption': '이 이미지에는 한 여성이 주요한 역할을 합니다. 그녀는 흰색과 검은색의 체크 패턴을 가진 드레스를 입고 있으며, 목에 걸린 목걸이와 귀걸이가 눈에 띍니다. 그녀의 머리에는 빈티지 스타일의 라이스 백과 함께 묶여 있습니다. 배경은 간단한 벽돌 패턴으로 이루어져 있으며, 그녀의 옆에는 \"ASK ME ANYTHING\"이라는 텍스트가 있으며, 우측 상단에는 \"ELLE\"라는 로고가 있습니다. 또한, 그녀의 앞에는 \"ELLE\"라는 로고가 있는 작은 배경이 있습니다.',\n",
       "  'description': '#ELLEaskmeanything #고윤정',\n",
       "  'time': '0:07:00',\n",
       "  'url': 'https://youtu.be/Pb2WhqgUWl8?si=-qb_oyJeOknaa_aQ',\n",
       "  'vid_title': \"환혼_2_에서_이재욱과_오열한_바로_그_장면!_'희수'_vs_'낙수'_고윤정의_선택은?_고윤정의_ASK_ME_ANYTHING_____ELLE_KOREA\"}]"
      ]
     },
     "execution_count": 37,
     "metadata": {},
     "output_type": "execute_result"
    }
   ],
   "source": [
    "def time_to_seconds(time_str):\n",
    "    if isinstance(time_str, str) and ':' in time_str:\n",
    "        h, m, s = map(int, time_str.split(':'))\n",
    "        return h * 3600 + m * 60 + s\n",
    "    return time_str\n",
    "    \n",
    "sorted(data, key=lambda x: float(time_to_seconds(x['time'])) if x['time'] else float('inf'))"
   ]
  },
  {
   "cell_type": "code",
   "execution_count": null,
   "id": "10e6f844-e742-4cc5-8126-fc4b2ae18e78",
   "metadata": {},
   "outputs": [],
   "source": []
  },
  {
   "cell_type": "markdown",
   "id": "80c6b7a2-b744-40a7-8cee-1459327ebad5",
   "metadata": {},
   "source": [
    "# DB에 존재하는 class들 확인하기"
   ]
  },
  {
   "cell_type": "code",
   "execution_count": 31,
   "id": "977de597-82a9-4535-bfb8-b598539a5ada",
   "metadata": {},
   "outputs": [
    {
     "name": "stdout",
     "output_type": "stream",
     "text": [
      "\n",
      "2. 상세 클래스 정보:\n",
      "총 2개의 클래스를 찾았습니다:\n",
      "\n",
      "1. 클래스명: Captioning_retrieval\n",
      "   설명: No description\n",
      "   속성 개수: 4\n",
      "   속성 목록:\n",
      "   - time: ['text']\n",
      "   - caption: ['text']\n",
      "   - url: ['text']\n",
      "   - vid_title: ['text']\n",
      "\n",
      "2. 클래스명: Stt_retrieval\n",
      "   설명: No description\n",
      "   속성 개수: 5\n",
      "   속성 목록:\n",
      "   - start: ['number']\n",
      "   - end: ['number']\n",
      "   - text: ['text']\n",
      "   - url: ['text']\n",
      "   - vid_title: ['text']\n"
     ]
    },
    {
     "name": "stderr",
     "output_type": "stream",
     "text": [
      "/tmp/ipykernel_7442/276580988.py:6: DeprecationWarning: \n",
      "Python client v3 `weaviate.Client(...)` connections and methods are deprecated and will\n",
      "            be removed by 2024-11-30.\n",
      "\n",
      "            Upgrade your code to use Python client v4 `weaviate.WeaviateClient` connections and methods.\n",
      "                - For Python Client v4 usage, see: https://weaviate.io/developers/weaviate/client-libraries/python\n",
      "                - For code migration, see: https://weaviate.io/developers/weaviate/client-libraries/python/v3_v4_migration\n",
      "\n",
      "            If you have to use v3 code, install the v3 client and pin the v3 dependency in your requirements file: `weaviate-client>=3.26.7;<4.0.0`\n",
      "  client = weaviate.Client(\"http://115.71.28.105:2448\")\n"
     ]
    }
   ],
   "source": [
    "import weaviate\n",
    "from typing import List, Dict\n",
    "import json\n",
    "\n",
    "def get_all_classes() -> List[Dict]:\n",
    "    client = weaviate.Client(\"http://115.71.28.105:2448\") \n",
    "\n",
    "    try:\n",
    "        schema = client.schema.get()\n",
    "        \n",
    "        classes = schema.get('classes', [])\n",
    "        \n",
    "        print(f\"총 {len(classes)}개의 클래스를 찾았습니다:\")\n",
    "        for idx, class_info in enumerate(classes, 1):\n",
    "            class_name = class_info.get('class')\n",
    "            description = class_info.get('description', 'No description')\n",
    "            property_count = len(class_info.get('properties', []))\n",
    "            \n",
    "            print(f\"\\n{idx}. 클래스명: {class_name}\")\n",
    "            print(f\"   설명: {description}\")\n",
    "            print(f\"   속성 개수: {property_count}\")\n",
    "            \n",
    "            # 속성 정보 출력 (optional)\n",
    "            if property_count > 0:\n",
    "                print(\"   속성 목록:\")\n",
    "                for prop in class_info.get('properties', []):\n",
    "                    prop_name = prop.get('name')\n",
    "                    prop_type = prop.get('dataType', [])\n",
    "                    print(f\"   - {prop_name}: {prop_type}\")\n",
    "        \n",
    "        return classes\n",
    "\n",
    "    except Exception as e:\n",
    "        print(f\"클래스 목록 가져오기 실패: {str(e)}\")\n",
    "        return []\n",
    "\n",
    "def save_schema_to_json(classes: List[Dict], filename: str = \"weaviate_schema.json\"):\n",
    "\n",
    "    try:\n",
    "        with open(filename, 'w', encoding='utf-8') as f:\n",
    "            json.dump(classes, f, ensure_ascii=False, indent=2)\n",
    "        print(f\"\\n스키마 정보가 {filename}에 저장되었습니다.\")\n",
    "    except Exception as e:\n",
    "        print(f\"파일 저장 중 오류 발생: {str(e)}\")\n",
    "\n",
    "def get_class_names() -> List[str]:\n",
    "   \n",
    "    client = weaviate.Client(\"http://115.71.28.105:2448\") \n",
    "    \n",
    "    try:\n",
    "        schema = client.schema.get()\n",
    "        class_names = [class_info['class'] for class_info in schema.get('classes', [])]\n",
    "        \n",
    "        print(\"\\n존재하는 클래스 목록:\")\n",
    "        for idx, name in enumerate(class_names, 1):\n",
    "            print(f\"{idx}. {name}\")\n",
    "            \n",
    "        return class_names\n",
    "    except Exception as e:\n",
    "        print(f\"클래스 이름 가져오기 실패: {str(e)}\")\n",
    "        return []\n",
    "\n",
    "if __name__ == \"__main__\":\n",
    "    # print(\"1. 간단한 클래스 이름 목록:\")\n",
    "    # class_names = get_class_names()\n",
    "    \n",
    "    print(\"\\n2. 상세 클래스 정보:\")\n",
    "    classes = get_all_classes()\n",
    "    \n",
    "    # # 스키마 정보 저장 (선택사항)\n",
    "    # if classes:\n",
    "    #     save_schema_to_json(classes)"
   ]
  },
  {
   "cell_type": "code",
   "execution_count": 40,
   "id": "638a52aa-6f0e-429e-ba1b-c93309fb514d",
   "metadata": {},
   "outputs": [
    {
     "data": {
      "text/plain": [
       "['Captioning_retrieval', 'Stt_retrieval']"
      ]
     },
     "execution_count": 40,
     "metadata": {},
     "output_type": "execute_result"
    }
   ],
   "source": [
    "[c[\"class\"] for c in classes]"
   ]
  },
  {
   "cell_type": "code",
   "execution_count": 41,
   "id": "a193de8a-3436-4a9e-978c-8ee4cc0efcb8",
   "metadata": {},
   "outputs": [
    {
     "data": {
      "text/plain": [
       "['Captioning_retrieval', 'Stt_retrieval']"
      ]
     },
     "execution_count": 41,
     "metadata": {},
     "output_type": "execute_result"
    }
   ],
   "source": [
    "list(map(lambda x: x[\"class\"], classes))"
   ]
  },
  {
   "cell_type": "code",
   "execution_count": 42,
   "id": "c1ddffcb-9a00-4656-87d6-2bd90525a3c0",
   "metadata": {},
   "outputs": [
    {
     "data": {
      "text/plain": [
       "[{'class': 'Captioning_retrieval',\n",
       "  'invertedIndexConfig': {'bm25': {'b': 0.75, 'k1': 1.2},\n",
       "   'cleanupIntervalSeconds': 60,\n",
       "   'stopwords': {'additions': None, 'preset': 'en', 'removals': None}},\n",
       "  'multiTenancyConfig': {'autoTenantActivation': False,\n",
       "   'autoTenantCreation': False,\n",
       "   'enabled': False},\n",
       "  'properties': [{'dataType': ['text'],\n",
       "    'description': \"This property was generated by Weaviate's auto-schema feature on Thu Nov 14 07:01:20 2024\",\n",
       "    'indexFilterable': True,\n",
       "    'indexRangeFilters': False,\n",
       "    'indexSearchable': True,\n",
       "    'name': 'time',\n",
       "    'tokenization': 'word'},\n",
       "   {'dataType': ['text'],\n",
       "    'description': \"This property was generated by Weaviate's auto-schema feature on Thu Nov 14 07:01:20 2024\",\n",
       "    'indexFilterable': True,\n",
       "    'indexRangeFilters': False,\n",
       "    'indexSearchable': True,\n",
       "    'name': 'caption',\n",
       "    'tokenization': 'word'},\n",
       "   {'dataType': ['text'],\n",
       "    'description': \"This property was generated by Weaviate's auto-schema feature on Thu Nov 14 07:01:20 2024\",\n",
       "    'indexFilterable': True,\n",
       "    'indexRangeFilters': False,\n",
       "    'indexSearchable': True,\n",
       "    'name': 'url',\n",
       "    'tokenization': 'word'},\n",
       "   {'dataType': ['text'],\n",
       "    'description': \"This property was generated by Weaviate's auto-schema feature on Thu Nov 14 07:01:20 2024\",\n",
       "    'indexFilterable': True,\n",
       "    'indexRangeFilters': False,\n",
       "    'indexSearchable': True,\n",
       "    'name': 'vid_title',\n",
       "    'tokenization': 'word'}],\n",
       "  'replicationConfig': {'asyncEnabled': False,\n",
       "   'deletionStrategy': 'DeleteOnConflict',\n",
       "   'factor': 1},\n",
       "  'shardingConfig': {'actualCount': 1,\n",
       "   'actualVirtualCount': 128,\n",
       "   'desiredCount': 1,\n",
       "   'desiredVirtualCount': 128,\n",
       "   'function': 'murmur3',\n",
       "   'key': '_id',\n",
       "   'strategy': 'hash',\n",
       "   'virtualPerPhysical': 128},\n",
       "  'vectorIndexConfig': {'bq': {'enabled': False},\n",
       "   'cleanupIntervalSeconds': 300,\n",
       "   'distance': 'cosine',\n",
       "   'dynamicEfFactor': 8,\n",
       "   'dynamicEfMax': 500,\n",
       "   'dynamicEfMin': 100,\n",
       "   'ef': -1,\n",
       "   'efConstruction': 128,\n",
       "   'filterStrategy': 'sweeping',\n",
       "   'flatSearchCutoff': 40000,\n",
       "   'maxConnections': 32,\n",
       "   'pq': {'bitCompression': False,\n",
       "    'centroids': 256,\n",
       "    'enabled': False,\n",
       "    'encoder': {'distribution': 'log-normal', 'type': 'kmeans'},\n",
       "    'segments': 0,\n",
       "    'trainingLimit': 100000},\n",
       "   'skip': False,\n",
       "   'sq': {'enabled': False, 'rescoreLimit': 20, 'trainingLimit': 100000},\n",
       "   'vectorCacheMaxObjects': 1000000000000},\n",
       "  'vectorIndexType': 'hnsw',\n",
       "  'vectorizer': 'none'},\n",
       " {'class': 'Stt_retrieval',\n",
       "  'invertedIndexConfig': {'bm25': {'b': 0.75, 'k1': 1.2},\n",
       "   'cleanupIntervalSeconds': 60,\n",
       "   'stopwords': {'additions': None, 'preset': 'en', 'removals': None}},\n",
       "  'multiTenancyConfig': {'autoTenantActivation': False,\n",
       "   'autoTenantCreation': False,\n",
       "   'enabled': False},\n",
       "  'properties': [{'dataType': ['number'],\n",
       "    'description': \"This property was generated by Weaviate's auto-schema feature on Thu Nov 14 07:01:12 2024\",\n",
       "    'indexFilterable': True,\n",
       "    'indexRangeFilters': False,\n",
       "    'indexSearchable': False,\n",
       "    'name': 'start'},\n",
       "   {'dataType': ['number'],\n",
       "    'description': \"This property was generated by Weaviate's auto-schema feature on Thu Nov 14 07:01:12 2024\",\n",
       "    'indexFilterable': True,\n",
       "    'indexRangeFilters': False,\n",
       "    'indexSearchable': False,\n",
       "    'name': 'end'},\n",
       "   {'dataType': ['text'],\n",
       "    'description': \"This property was generated by Weaviate's auto-schema feature on Thu Nov 14 07:01:12 2024\",\n",
       "    'indexFilterable': True,\n",
       "    'indexRangeFilters': False,\n",
       "    'indexSearchable': True,\n",
       "    'name': 'text',\n",
       "    'tokenization': 'word'},\n",
       "   {'dataType': ['text'],\n",
       "    'description': \"This property was generated by Weaviate's auto-schema feature on Thu Nov 14 07:01:12 2024\",\n",
       "    'indexFilterable': True,\n",
       "    'indexRangeFilters': False,\n",
       "    'indexSearchable': True,\n",
       "    'name': 'url',\n",
       "    'tokenization': 'word'},\n",
       "   {'dataType': ['text'],\n",
       "    'description': \"This property was generated by Weaviate's auto-schema feature on Thu Nov 14 07:01:12 2024\",\n",
       "    'indexFilterable': True,\n",
       "    'indexRangeFilters': False,\n",
       "    'indexSearchable': True,\n",
       "    'name': 'vid_title',\n",
       "    'tokenization': 'word'}],\n",
       "  'replicationConfig': {'asyncEnabled': False,\n",
       "   'deletionStrategy': 'DeleteOnConflict',\n",
       "   'factor': 1},\n",
       "  'shardingConfig': {'actualCount': 1,\n",
       "   'actualVirtualCount': 128,\n",
       "   'desiredCount': 1,\n",
       "   'desiredVirtualCount': 128,\n",
       "   'function': 'murmur3',\n",
       "   'key': '_id',\n",
       "   'strategy': 'hash',\n",
       "   'virtualPerPhysical': 128},\n",
       "  'vectorIndexConfig': {'bq': {'enabled': False},\n",
       "   'cleanupIntervalSeconds': 300,\n",
       "   'distance': 'cosine',\n",
       "   'dynamicEfFactor': 8,\n",
       "   'dynamicEfMax': 500,\n",
       "   'dynamicEfMin': 100,\n",
       "   'ef': -1,\n",
       "   'efConstruction': 128,\n",
       "   'filterStrategy': 'sweeping',\n",
       "   'flatSearchCutoff': 40000,\n",
       "   'maxConnections': 32,\n",
       "   'pq': {'bitCompression': False,\n",
       "    'centroids': 256,\n",
       "    'enabled': False,\n",
       "    'encoder': {'distribution': 'log-normal', 'type': 'kmeans'},\n",
       "    'segments': 0,\n",
       "    'trainingLimit': 100000},\n",
       "   'skip': False,\n",
       "   'sq': {'enabled': False, 'rescoreLimit': 20, 'trainingLimit': 100000},\n",
       "   'vectorCacheMaxObjects': 1000000000000},\n",
       "  'vectorIndexType': 'hnsw',\n",
       "  'vectorizer': 'none'}]"
      ]
     },
     "execution_count": 42,
     "metadata": {},
     "output_type": "execute_result"
    }
   ],
   "source": [
    "classes"
   ]
  },
  {
   "cell_type": "code",
   "execution_count": null,
   "id": "9350a94a-a946-47d3-b74c-62347cfee2d9",
   "metadata": {},
   "outputs": [],
   "source": []
  }
 ],
 "metadata": {
  "kernelspec": {
   "display_name": "Python 3 (ipykernel)",
   "language": "python",
   "name": "python3"
  },
  "language_info": {
   "codemirror_mode": {
    "name": "ipython",
    "version": 3
   },
   "file_extension": ".py",
   "mimetype": "text/x-python",
   "name": "python",
   "nbconvert_exporter": "python",
   "pygments_lexer": "ipython3",
   "version": "3.10.12"
  }
 },
 "nbformat": 4,
 "nbformat_minor": 5
}
