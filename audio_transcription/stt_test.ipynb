{
 "cells": [
  {
   "cell_type": "code",
   "execution_count": 15,
   "id": "2e98ae26-5e8d-4353-8036-2dafb9365bf9",
   "metadata": {
    "scrolled": true
   },
   "outputs": [],
   "source": [
    "import whisper\n",
    "# from pytube import YouTube\n",
    "import os\n",
    "from pytubefix import YouTube\n",
    "from pytubefix.cli import on_progress\n",
    "import json\n",
    "\n",
    "\n",
    "def createDirectory(directory):\n",
    "    try:\n",
    "        if not os.path.exists(directory):\n",
    "            print(f\"--- Directory created successfully: {directory} ---\")\n",
    "            os.makedirs(directory)\n",
    "    except OSError:\n",
    "        print(\"Error: Failed to create the directory.\")\n",
    "\n",
    "def youtube_video_download(url,main_directory):\n",
    "    yt = YouTube(url, on_progress_callback = on_progress)\n",
    "     \n",
    "    ys = yt.streams.get_highest_resolution()\n",
    "\n",
    "    vid_title=yt.title.replace(\" \",\"_\")\n",
    "    output_path=f\"{main_directory}/{vid_title}/\"\n",
    "    createDirectory(output_path)\n",
    "    filename=f\"youtube_video.mp4\"\n",
    "    \n",
    "    file_path = os.path.join(output_path, filename)\n",
    "    \n",
    "    if os.path.isfile(file_path):\n",
    "        print(f\"--- Video already exists\")\n",
    "        pass\n",
    "    else: \n",
    "        print(f\"--- Download ... {yt.title} ---\")\n",
    "        ys.download(output_path=output_path, filename=filename)\n",
    "        print(f\"--- Video Download Done ---\")\n",
    "    \n",
    "    return output_path, filename\n",
    "\n",
    "def stt_with_whisper(directory, video_path):\n",
    "    print(\"--- Whisper Model load ---\")\n",
    "    whisper_model = whisper.load_model(\"turbo\")\n",
    "    # transcription = whisper_model.transcribe(f\"./{yt.title}.mp4\", fp16 = False)[\"text\"].strip()\n",
    "    print(\"--- Start Transcribe ---\")\n",
    "    path=directory+video_path\n",
    "    stt_result=whisper_model.transcribe(path, fp16 = False)\n",
    "\n",
    "    return stt_result\n",
    "\n",
    "def process_stt_by_minute(stt_data):\n",
    "    print(\"--- segment stt result ---\")\n",
    "    result = []\n",
    "    \n",
    "    segments = stt_data['segments']\n",
    "    \n",
    "    if not segments:\n",
    "        return result\n",
    "        \n",
    "    current_minute = 0\n",
    "    current_texts = []\n",
    "    current_start = 0\n",
    "    \n",
    "    for segment in segments:\n",
    "        segment_start_minute = int(segment['start'] // 60)\n",
    "        \n",
    "        if segment_start_minute == current_minute:\n",
    "            current_texts.append(segment['text'].strip())\n",
    "        else:\n",
    "            if current_texts:\n",
    "                result.append({\n",
    "                    \"start\": current_start,\n",
    "                    \"end\": (current_minute + 1) * 60,\n",
    "                    \"text\": \" \".join(current_texts)\n",
    "                })\n",
    "            \n",
    "            while current_minute + 1 < segment_start_minute:\n",
    "                current_minute += 1\n",
    "                result.append({\n",
    "                    \"start\": current_minute * 60,\n",
    "                    \"end\": (current_minute + 1) * 60,\n",
    "                    \"text\": \"\"\n",
    "                })\n",
    "            \n",
    "            current_minute = segment_start_minute\n",
    "            current_texts = [segment['text'].strip()]\n",
    "            current_start = current_minute * 60\n",
    "    \n",
    "    if current_texts:\n",
    "        result.append({\n",
    "            \"start\": current_start,\n",
    "            \"end\": (current_minute + 1) * 60,\n",
    "            \"text\": \" \".join(current_texts)\n",
    "        })\n",
    "    \n",
    "    return result\n",
    "\n",
    "def save_captions_to_file(directory,result):\n",
    "    stt_output_path=f\"{directory}/transcription.json\"\n",
    "    with open(stt_output_path, 'w', encoding='utf-8') as outfile:\n",
    "        json.dump(result, outfile,indent=\"\\t\",ensure_ascii=False)"
   ]
  },
  {
   "cell_type": "code",
   "execution_count": 16,
   "id": "87c14799-9905-4c9a-a7bc-5fcd9ebbb757",
   "metadata": {
    "scrolled": true
   },
   "outputs": [
    {
     "name": "stdout",
     "output_type": "stream",
     "text": [
      "--- Directory created successfully: /workspace/.gen/VLM/Video_to_chat/assets/[#유퀴즈온더블럭]_💥지드래곤의_컴백을_격하게_환영합니다💥_7년_만에_신곡_〈POWER〉로_돌아온_지디💕/ ---\n",
      "--- Download ... [#유퀴즈온더블럭] 💥지드래곤의 컴백을 격하게 환영합니다💥 7년 만에 신곡 〈POWER〉로 돌아온 지디💕 ---\n",
      "--- Video Download Done ---█████████████████████| 100.0%\n",
      "--- Whisper Model load ---\n",
      "--- Start Transcribe ---\n",
      "--- segment stt result ---\n"
     ]
    }
   ],
   "source": [
    "url=\"https://youtu.be/95vT5rBiEYI?si=ruI2oOOIQLib8pDj\" \n",
    "main_directory=\"/workspace/.gen/VLM/Video_to_chat/assets\"\n",
    "directory, video_path=youtube_video_download(url,main_directory)\n",
    "stt_result=stt_with_whisper(directory, video_path)\n",
    "minute_res=process_stt_by_minute(stt_result)\n",
    "save_captions_to_file(directory,minute_res)"
   ]
  },
  {
   "cell_type": "code",
   "execution_count": 3,
   "id": "03347208-481c-4a0e-bd94-6b03de408ddd",
   "metadata": {},
   "outputs": [],
   "source": [
    "minute_res=process_stt_by_minute(stt_result)"
   ]
  },
  {
   "cell_type": "code",
   "execution_count": 5,
   "id": "54bc679a-cbbc-4af9-961d-73d8c9811c35",
   "metadata": {},
   "outputs": [
    {
     "data": {
      "text/plain": [
       "17"
      ]
     },
     "execution_count": 5,
     "metadata": {},
     "output_type": "execute_result"
    }
   ],
   "source": [
    "len(minute_res)"
   ]
  },
  {
   "cell_type": "code",
   "execution_count": 6,
   "id": "56028946-9966-4c23-8b28-d4b912789394",
   "metadata": {},
   "outputs": [
    {
     "data": {
      "text/plain": [
       "[{'start': 0,\n",
       "  'end': 60,\n",
       "  'text': '아이고! 아이고! 아이고! 아이고! 야, 이 드랙랑! 예! 야, 이거만이야! 아, 참! 아... 아... 왜, 왜? 오랜만이라... 어서오세요! 아우! 아우, GD! 나... 박수라도 한 번! 괜찮아요? 네, 아이... 나 반가울 거야! 많이 반가울 거야! 네... 네, 이제... G-Dragon! 아, 아! 아, 우리 또 GD 진짜 오랜만이네요! GD는 첫 출연이니까!'},\n",
       " {'start': 60,\n",
       "  'end': 120,\n",
       "  'text': '그렇죠! 그죠, 그죠? 네! 네... 진짜로... 제가... 이런... 토크? 해야라고 해야 되나요? 네, 네! 한 10년 만 정도라서... 맞아, 맞아! 지금 얘기 들어보니까 거의 힐링캠프가 마지막이었다고! 네... 네, 그죠? 오늘도 무슨 캠프로 온 것 같긴 한데... 그렇죠? 네... 네... 자, 제가 소활드릴게요! 영원한 건 절대 없어를 외쳤지만 영원한 시대 아이콘 우리 GDragon! 네! 권영수입니다! 팬들에게 juvenile 기억나는 기 limb 특이였 bipolar duct극! enables�bury, 그냥 DisseCO wozus는 롤비'},\n",
       " {'start': 120,\n",
       "  'end': 180,\n",
       "  'text': '영원한건 절대 없어 결국엔 너 내게 있지 있어 사랑같은 소리 따위지 오늘 밤은 빛다가 세상을 헌는다 세상을 헌는다 오랜만에 인사를 좀 해주세요 네 안녕하세요. 이거 제가 왜 하겠... 네 안녕하세요. 가수 지드래골입니다. 네 반갑습니다. 올해가 이제 값진 연이죠? 올해가 얼마 안 남긴 했습니다만 푸른 용의 해입니다. 지옹의 해를 맞아서 드디어 7년 만에! 이야 이게 7년 만이네. 솔로 앨범이! 진짜 많은 분들이 GD가 또 어떤 곡을 발표할까? 어떤 곡을 또 들고 나올까? 관심도 굉장히 좀 컸었고. 실제로 부담도 좀 될 것 같아. GD 입장에서도. 네. 부담을 가진 지는 너무... 오래됐다고 해야 되나?'},\n",
       " {'start': 180,\n",
       "  'end': 240,\n",
       "  'text': '이게 매년 사실 데뷔 초 때부터 다음 앨범에는 더 잘해야 되겠다, 더 잘해야 되겠다. 이렇게 갔다 보니까 사실 지금은 부담이 기본적으로는 베이스에 마련돼 있는데 어떻게 보면 오랜만에 나오는 거다 보니까 저를 모르던 새로운 세대도 있을 수 있고 있을 수 있죠. 부담을 넘어서 좀... 기대... 저 또한 솔직히 너무 되고 기다리니까 이제 용의 해가 됐고 지금 안 나오면 이렇게 뱀이 되잖아요. 네. 그래서... 그래서... 네. 나오게 됐습니다. 이게 좀 대체 어떤 곡입니까? 아마 방송이 나갈 때쯤에 공개가 돼 됐겠죠? 그런 것 같은데... 오랜만에 나오는데 이제 싱글이고요. 아 싱글이고? 그리고... 제목은 파워라는 노래예요. 파워?'},\n",
       " {'start': 240,\n",
       "  'end': 300,\n",
       "  'text': '네. 힘에 관한 노래인데 상대적이잖아요. 뭐 이런... 근력도 있을 거고 체력도 있을 거고 여러 가지 있지만 에너지도 있을 거고 근데 이제 저한테 사실 힘은 음악의 힘이 부고 제가 이제 삼자루 한 7년? 제 공백기 동안 바라봤을 때 요즘에 뭔가 미디어여? 미디어의 힘이 굉장히 크니까 저의 힘을 지금의 신에 맞게끔 좀 풍자 아닌 풍자? 그리고 좀 뭔가 이렇게 중간 지점에서 잘 융화를 시킬 수 있는 서로 간의 힘을 잘 교집합을 이룰 수 있게끔 좀 그런 여러 가지 뜻을 담았어요. 그러니까 한마디로 이제 7년간의 기간 동안 이 미디어 환경이나 여러 가지의 바뀐 환경에 퍼워라는 것이 그냥 단순히 힘을 얘기하는 것이 아닌 서로 다 작용에 의한 것들이니까'},\n",
       " {'start': 300,\n",
       "  'end': 360,\n",
       "  'text': \"그것들이니까 네. 우리 GD가 정말 가요계에 또 정말 엄청난 영향을 좀 많이 미쳤어요. 뭐 이제 사실상 뭐 작사, 작곡, 프로듀싱 뭐 진짜 이게 지금은 또 그런 아이돌들이 많이 있어요. 프로듀싱하고 작곡도 하고 근데 그때만 하더라도 이런 아이돌은 사실 거의 아마 GD가 좀 최초이지 않았을까 라는 생각이 좀 들어요. 이게 뭐 이제 거짓말 하루하루 마지막 인사 판타스틱 베이비 뱅뱅뱅. 빅뱅. 빅뱅. Let's go. Let's go. Yes girl. 하하. We're back again with 이 문세. That's right. That's collaboration. That's collaboration. Yeah. GD가 뭐 연이어서 히트곡들을 야 이거 정말 하고 싶다고 할 수 있는 일은 아니잖아요.\"},\n",
       " {'start': 360,\n",
       "  'end': 420,\n",
       "  'text': '저도 사실 지금 이렇게 말씀해주시면 세상 어떻게 했지? 그러니까. 이 생각이 사실 들기도 하고 지금 다시 그대로 돌아간다고 그럴 수 있을까? 이번에 컴백하는 지금 시점에 느끼는 봐도 똑같고 이제 와서 생각하면 뭐 되게 문도 너무 좋았고 열심히도 했지만 원석들처럼 각자 이렇게 음두를 내는 친구들이 옆에 있었고 작업진이 있었고 사실 틴틴틴 치면 음이 되는 좀 그런 느낌이었어요. 정말 그냥 쭈루루루룩 됐어요.'},\n",
       " {'start': 420,\n",
       "  'end': 480,\n",
       "  'text': \"아니 이게 저 중학교 때부터 한 일주일에 한 곡씩 그런 곡 작업들을 계속 해왔다고 그래요? 래퍼는 사실 당연한 거거든요. 랩은 자기가 쓰는 게. 그렇죠. 그렇다고요. 그래서 이제 외국의 엠마을이라는 음원을 다운받아서 거기에 이제 계속 잘 되든 안 되든 저랑 태양이랑 일주일에 한 곡씩 편곡을 계속해서 하는 거죠. 네. 반주만 있는 음원에다가 한 2, 3년을 그냥 했던 것 같아요. 어쨌든 나중에 이렇게 데뷔하고 나서에 자양분이 됐던 일이네요. 지금 학교는 거의 수련같이. 그러니까요. 가사 공책을 소중히 공문 1호라고 하면 1호가 가사 공책인데 없거든요. 또 한 2, 3, 4. 그 다음 곡에 정국을 들게. 정국을 들게. That's mother we're not\"},\n",
       " {'start': 480,\n",
       "  'end': 540,\n",
       "  'text': '가야 할 길은 멀어 내가 싸워서 이겨와지 랩 부진 넘버 원 끝까지 갈래 말래 응 곡이라는 건 저희들도 그렇습니다만 이제 뒤돌아 생각해보면 프로그램에 우리 인생이 좀 녹아 있거든요. 어떤 인생이 있었던 일들이 프로그램을 쭉 보면 그게 다 녹아 있어요. 우리 사실 GD도 마찬가지일 것 같아요. 곡 속에 어떤 내 인생이 조금 같이 묻어있지 않을까 하는 생각이 좀 드는데 아.. 정말 이게 싫은데 안 좋거나 그러니까 특히 연인 사이라고 하면 헤어졌을 때나 슬플 때나 외로울 때나 사랑에 관한 그리고 이별 이별에 관한 노래는 안 좋듯 일어나면 나왔던 것 같아요. 아 그 정도로? 굳이 말하면 일기를 쓰는 것처럼 오늘의 일기잖아요. 항상 좋고 기분 좋고 밝고 이럴 때는 아무 생각이 안 나요. 그냥 좋죠. 너무 좋고 지금 이렇게 보고 너무 날씨 좋고'},\n",
       " {'start': 540,\n",
       "  'end': 600,\n",
       "  'text': '이러면 곡이 잘 안 떠올라요? 뭐가 떠올라 그냥 아 안 돼? 이 밝은 느낌을 쓰면 안 돼? 그냥 보고 그냥 가만히 아 아 이런 아 그래 목소리를 들으면 딱 뭔가 캡쳐된 뭔가 화면 이미지로 떠올라요. 마음? 내 마음이? 네. 이게 점점 갈수록 대충 한다는 건 아니지만 점점 갈수록 요령도 생기겠고 스타일도 생기고 갈수록 나아지고는 있는데 처음에는 그냥 힌만 막 줘가지고 그냥 제 귀로 들었을 땐 거의 뭐 뭘 하면서 녹음을 했을까 하는 철봉을 해서 녹음할 것 같은 아 그런 느낌이 좀 들어요? 목소리를 들으면? 아주 신이 나 있고 눈에서 레이저가 나올 것 같은 그런 느낌이 나요. 삐딱하게 같은 노래를 지금 들으면 좀 어때요?'},\n",
       " {'start': 600,\n",
       "  'end': 660,\n",
       "  'text': '삐딱하게는 좋죠. 아니 좋은데 그때 나를 좀 생각하면 뭔가 그런 가사 속에 내 어떤 느낌이 투영이 되잖아요. 투영이 되는 거니까 정확히 그 비디오에 나오는 모습이 제 일상 같았어요. 그때 시절을 돌이켜 보면 그때는 화가만 하고야 하나? 근데 이게 뭔가 누구든가 특정 대상이 아닌 한 분야에서 이제 심... 심... 심... 심... 심... 심... 심... 심... 심... 심... 심... 심... 심... 심... 심 cou하사 Zero 거~~ 심지어 무전 famous Ex- ی 闔 아주 동경 Afric 싱 준비 두신 미념 은 모덤도 꼼'},\n",
       " {'start': 660,\n",
       "  'end': 720,\n",
       "  'text': '인 현 아이러니해야죠, 조금. 그런 것들에 대한 반항심이 됐듯 무드가 그랬던 것 같아요. 영원한 건 절대 없어. 결국엔 난 변했지. 이유도 없어. 진심이 없어. 사랑 같은 소리 따윈 집어쳐. 오늘 밤은 빛나가게. 영원한 건 절대 없어. 결국엔 난 변했지. 이유도 없어. 결국엔 난 혼자지. 그렇잖아요. 무대에서 수많은 사람들과 함께 무대에서 화려함 뒤에. 묻어있는 그런 노래지 않습니까? 삐딱하기라는 노래 자체가. 근데 저는 궁금한 게. 저도 지용씨를 보면서 스스로 뭔가를 계속 해내는 모습들이 보이거든요.'},\n",
       " {'start': 720,\n",
       "  'end': 780,\n",
       "  'text': '그래서 스스로가 노력하고 계속 발전시켜 나가는데. 그럼 좀 힘들 때나. 그럴 때 기대는 곳은 없나요? 호세. 마음껏 기대해요. 잠시 기대. 근데 진짜. 힘들거나 지칠 때는 어떻게 하는지. 그럴 때 그런 멋진 곡들이 많이 나오지 않나 하는 생각이 들어요. 그게 또. 그런 것도 있어요. 이상하게. 예. 예전에 누가 얘기하셨더라. 너무 사랑했는데 헤어져서 너무너무 슬픈데. 그때 바로 두 생각이 곡을 써야겠다. 그러니까요. 그러는 내 자신이 스스로가. 맞아요. 술술 나올 적. 술술 나온다고. 말을 하죠. 이게 왜냐면. 이제 성인이 된 후에 술을 마실 수도 있고. 스트레스를 푸는. 그 방법을 어떻게 보면 저희는. 계속해서 활동기였기 때문에. 작업실에 있든. 작업실이 아니라고 해도. 바로 내일. 이제 해외를 나가서 투어 일정에 잡혀있든.'},\n",
       " {'start': 780,\n",
       "  'end': 840,\n",
       "  'text': '아 그래요? 아니면. 해외 중에 어딘가 호텔에 있든. 그 혼자 방에서. 그 생각밖에 안 나고. 이걸 어딘가에 풀어야 되는데. 이걸 뭐. 태권이한테 말할 수는 없고. 그러다 보니까 그냥. 이상하게 팬을 진짜로. 하면. 마법처럼 이렇게. 왜냐면. 너무 생생하게. 지금 내 감정이. 느끼는 대로 손끝으로 나오니까. 그러니까. 제 첫 솔로곡인데. 디슬러드라는. 곡인데. 마른 파이브의. 곡을. 편곡해서. 거기에 이제. 제가 쓴 건데. 그거는. 20분이 안 걸렸어. 10분이 안 걸렸어. 10분이 안 걸린 것 같아요. 집에 와서. 뭔가 그. 시작. 하고. 후루룩 하고. 오늘 이제는 다른 날 보다. 볼 때에도 슬퍼지니.'},\n",
       " {'start': 840,\n",
       "  'end': 900,\n",
       "  'text': '네가 보고 싶다. 고. 이제는 더 만족할 수는 없이. 돼버린 거야. 그건 신기해서라도. 제가 말을 했던 것 같아요. 그 당시에. 아니 이걸 내가. 진짜 딱 10분이 걸렸다. 들어봐. 이런 식이었던 것 같아요. 창작을 즐길 방법. 따로 알지는 못하고. 그냥 저는. 할 줄 아는 게 그거 밖에 없어요. 저는 가만히 있어도 뭐. 그냥 뭐만 있으면. 휴지가 있어도 뭐. 계속 이렇게 뭘. 해보는 건데. 그냥. 재미있어서 하는 거라. 어? 슈퍼니 벌써 이렇게 됐네. 이런 느낌 정도인 것 같아요. 아니 어쨌든 좀. 노래 얘기를 좀 하다 말았는데. 이게 이제. 대체 어떤 곡일까. 한번. 이거 한번. 살짝 들어볼 수 있습니까? 어? 그래요? 처음 했잖아. 한번 좀 살짝. 한번. 야 이거 궁금해요. 여기 아침 본격으로.'},\n",
       " {'start': 900,\n",
       "  'end': 960,\n",
       "  'text': '오 michael 이 energie appreciated. 이쁘 atenção. Starhe is my own 妹이 contrib면치 foreign 몸의 힘이 느껴진다 오빠에게 감자가 어떤면 이 목소리! 아 귓전을 때리네! 아... 잘 돌아왔어! 아우 우리 GD! 웰컴백입니다! 웰컴백!'},\n",
       " {'start': 960, 'end': 1020, 'text': '아 참 정말...'}]"
      ]
     },
     "execution_count": 6,
     "metadata": {},
     "output_type": "execute_result"
    }
   ],
   "source": [
    "minute_res"
   ]
  },
  {
   "cell_type": "code",
   "execution_count": null,
   "id": "0ac79c2f-3c4e-45e1-930d-a13176f5ffe8",
   "metadata": {},
   "outputs": [],
   "source": []
  }
 ],
 "metadata": {
  "kernelspec": {
   "display_name": "Python 3 (ipykernel)",
   "language": "python",
   "name": "python3"
  },
  "language_info": {
   "codemirror_mode": {
    "name": "ipython",
    "version": 3
   },
   "file_extension": ".py",
   "mimetype": "text/x-python",
   "name": "python",
   "nbconvert_exporter": "python",
   "pygments_lexer": "ipython3",
   "version": "3.10.12"
  }
 },
 "nbformat": 4,
 "nbformat_minor": 5
}
