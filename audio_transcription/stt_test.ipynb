{
 "cells": [
  {
   "cell_type": "code",
   "execution_count": 10,
   "id": "2e98ae26-5e8d-4353-8036-2dafb9365bf9",
   "metadata": {
    "scrolled": true
   },
   "outputs": [],
   "source": [
    "import whisper\n",
    "# from pytube import YouTube\n",
    "import os\n",
    "from pytubefix import YouTube\n",
    "from pytubefix.cli import on_progress\n",
    "import json\n",
    "\n",
    "\n",
    "def createDirectory(directory):\n",
    "    try:\n",
    "        if not os.path.exists(directory):\n",
    "            print(f\"--- Directory created successfully: {directory} ---\")\n",
    "            os.makedirs(directory)\n",
    "    except OSError:\n",
    "        print(\"Error: Failed to create the directory.\")\n",
    "\n",
    "def youtube_video_download(url,main_directory):\n",
    "    yt = YouTube(url, on_progress_callback = on_progress)\n",
    "     \n",
    "    ys = yt.streams.get_highest_resolution()\n",
    "\n",
    "    vid_title=yt.title.replace(\" \",\"_\")\n",
    "    output_path=f\"{main_directory}/{vid_title}/\"\n",
    "    createDirectory(output_path)\n",
    "    filename=f\"youtube_video.mp4\"\n",
    "    \n",
    "    file_path = os.path.join(output_path, filename)\n",
    "    \n",
    "    if os.path.isfile(file_path):\n",
    "        print(f\"--- Video already exists\")\n",
    "        pass\n",
    "    else: \n",
    "        print(f\"--- Download ... {yt.title} ---\")\n",
    "        ys.download(output_path=output_path, filename=filename)\n",
    "        print(f\"--- Video Download Done ---\")\n",
    "    \n",
    "    return output_path, filename\n",
    "\n",
    "def stt_with_whisper(directory, video_path):\n",
    "    print(\"--- Whisper Model load ---\")\n",
    "    whisper_model = whisper.load_model(\"turbo\")\n",
    "    # transcription = whisper_model.transcribe(f\"./{yt.title}.mp4\", fp16 = False)[\"text\"].strip()\n",
    "    print(\"--- Start Transcribe ---\")\n",
    "    path=directory+video_path\n",
    "    stt_result=whisper_model.transcribe(path, fp16 = False)\n",
    "\n",
    "    return stt_result\n",
    "\n",
    "def process_stt_by_minute(stt_data):\n",
    "    print(\"--- segment stt result ---\")\n",
    "    result = []\n",
    "    \n",
    "    segments = stt_data['segments']\n",
    "    \n",
    "    if not segments:\n",
    "        return result\n",
    "        \n",
    "    current_minute = 0\n",
    "    current_texts = []\n",
    "    current_start = 0\n",
    "    \n",
    "    for segment in segments:\n",
    "        segment_start_minute = int(segment['start'] // 60)\n",
    "        \n",
    "        if segment_start_minute == current_minute:\n",
    "            current_texts.append(segment['text'].strip())\n",
    "        else:\n",
    "            if current_texts:\n",
    "                result.append({\n",
    "                    \"start\": current_start,\n",
    "                    \"end\": (current_minute + 1) * 60,\n",
    "                    \"text\": \" \".join(current_texts)\n",
    "                })\n",
    "            \n",
    "            while current_minute + 1 < segment_start_minute:\n",
    "                current_minute += 1\n",
    "                result.append({\n",
    "                    \"start\": current_minute * 60,\n",
    "                    \"end\": (current_minute + 1) * 60,\n",
    "                    \"text\": \"\"\n",
    "                })\n",
    "            \n",
    "            current_minute = segment_start_minute\n",
    "            current_texts = [segment['text'].strip()]\n",
    "            current_start = current_minute * 60\n",
    "    \n",
    "    if current_texts:\n",
    "        result.append({\n",
    "            \"start\": current_start,\n",
    "            \"end\": (current_minute + 1) * 60,\n",
    "            \"text\": \" \".join(current_texts)\n",
    "        })\n",
    "    \n",
    "    return result\n",
    "\n",
    "def save_captions_to_file(directory,result):\n",
    "    stt_output_path=f\"{directory}/transcription.json\"\n",
    "    with open(stt_output_path, 'w', encoding='utf-8') as outfile:\n",
    "        json.dump(result, outfile,indent=\"\\t\",ensure_ascii=False)"
   ]
  },
  {
   "cell_type": "code",
   "execution_count": 11,
   "id": "87c14799-9905-4c9a-a7bc-5fcd9ebbb757",
   "metadata": {
    "scrolled": true
   },
   "outputs": [
    {
     "name": "stdout",
     "output_type": "stream",
     "text": [
      "--- Video already exists\n",
      "--- Whisper Model load ---\n",
      "--- Start Transcribe ---\n",
      "--- segment stt result ---\n"
     ]
    }
   ],
   "source": [
    "url=\"https://youtu.be/95vT5rBiEYI?si=ruI2oOOIQLib8pDj\" \n",
    "main_directory=\"/workspace/.gen/VLM/Video_to_chat/assets\"\n",
    "directory, video_path=youtube_video_download(url,main_directory)\n",
    "stt_result=stt_with_whisper(directory, video_path)\n",
    "minute_res=process_stt_by_minute(stt_result)\n",
    "save_captions_to_file(directory,minute_res)"
   ]
  },
  {
   "cell_type": "code",
   "execution_count": 12,
   "id": "03347208-481c-4a0e-bd94-6b03de408ddd",
   "metadata": {},
   "outputs": [
    {
     "name": "stdout",
     "output_type": "stream",
     "text": [
      "--- segment stt result ---\n"
     ]
    }
   ],
   "source": [
    "minute_res=process_stt_by_minute(stt_result)"
   ]
  },
  {
   "cell_type": "code",
   "execution_count": 13,
   "id": "54bc679a-cbbc-4af9-961d-73d8c9811c35",
   "metadata": {},
   "outputs": [
    {
     "data": {
      "text/plain": [
       "17"
      ]
     },
     "execution_count": 13,
     "metadata": {},
     "output_type": "execute_result"
    }
   ],
   "source": [
    "len(minute_res)"
   ]
  },
  {
   "cell_type": "code",
   "execution_count": 14,
   "id": "56028946-9966-4c23-8b28-d4b912789394",
   "metadata": {
    "scrolled": true
   },
   "outputs": [
    {
     "data": {
      "text/plain": [
       "[{'start': 0,\n",
       "  'end': 60,\n",
       "  'text': '아이고! 아이고! 아이고! 아이고! 야, 이 드랙랑! 예! 야, 이거만이야! 아, 참! 아... 아... 왜, 왜? 오랜만이라... 어서오세요! 아우! 아우, GD! 나... 박수라도 한 번! 괜찮아요? 네, 아이... 나 반가울 거야! 많이 반가울 거야! 네... 네, 이제... G-Dragon! 아, 아! 아, 우리 또 GD 진짜 오랜만이네요! GD는 첫 출연이니까!'},\n",
       " {'start': 60,\n",
       "  'end': 120,\n",
       "  'text': '그렇죠! 그죠, 그죠? 네! 네... 진짜로... 제가... 이런... 토크? 해야라고 해야 되나요? 네, 네! 한 10년 만 정도라서... 맞아, 맞아! 지금 얘기 들어보니까 거의 힐링캠프가 마지막이었다고! 네... 네, 그죠? 오늘도 무슨 캠프로 온 것 같긴 한데... 그렇죠? 네... 네... 자, 제가 소활드릴게요! 영원한 건 절대 없어를 외쳤지만 영원한 시대 아이콘 우리 GDragon! 네! 권영수입니다! M swims Wild'},\n",
       " {'start': 120,\n",
       "  'end': 180,\n",
       "  'text': '워킹! 락아 락아! 락아! 사랑 같은 소리 따위 지민자 오늘 밤은 빛나가게 세상을 흔들어 세상을 흔들어 오랜만에 인사를 좀 해주세요. 네 안녕하세요. 이거 제가 왜 하겠... 네 안녕하세요. 가수 지드래곤입니다. 올해가 이제 값진 년이죠? 올해가 얼마 안 남긴 했습니다만 푸른 용의 해입니다. 지옹의 해를 맞아서 드디어 7년 만에! 이게 7년 만이네. 솔로 앨범이! 진짜 많은 분들이 지디가 또 어떤 곡을 발표할까 어떤 곡을 들고 나올까 관심도 굉장히 컸었고 한편으로 부담도 좀 될 것 같아. 지디 입장에서도 부담을 가진 지는 너무'},\n",
       " {'start': 180,\n",
       "  'end': 240,\n",
       "  'text': '오래됐다고 해야 되나 이게 매년 사실 데뷔 초 때부터 다음 앨범에는 더 잘해야 되겠다 이렇게 갔다 보니까 사실 지금은 부담이 기본적으로는 베이스에 마련돼 있는데 어떻게 보면 오랜만에 나오는 거다 보니까 저를 모르던 새로운 이제 세대도 있을 수 있고 있을 수 있죠. 부담을 넘어서 좀 기대 저 또한 솔직히 너무 되고 기다리니까 이제 용의 해가 됐고 지금 안 나오면 뱀이 되잖아요. 그래서 나오게 됐습니다. 이게 좀 대체 어떤 곡입니까? 아마 방송이 나갈 때쯤에 공개가 돼 됐겠죠? 오랜만에 나오는데 싱글이고요. 싱글 싱글이고 제목은 파워라는 노래'},\n",
       " {'start': 240,\n",
       "  'end': 300,\n",
       "  'text': '파워? 힘에 관한 노래인데 상대적이잖아요. 근력도 있고 체력도 있고 여러가지 있지만 에너지도 있을 거고 근데 이제 저한테 사실 힘은 음악의 힘이 제가 이제 삼자루 한 7년? 제 공백기 동안 바라봤을 때 요즘에 미디어여? 미디어의 힘이 굉장히 크니까 저의 힘을 지금의 풍자 아닌 풍자? 그리고 좀 뭔가 이렇게 중간 지점에서 잘 융화를 시킬 수 있는 서로 간의 힘을 잘 교집합을 이룰 수 있겠군? 좀 그런 여러 가지 뜻을 담았어요. 그러니까 한마디로 이제 7년간의 기간 동안 미디어 환경이나 여러 가지의 바뀐 환경에 퍼워라는 것이 그냥 단순히 힘을 얘기하는 것이 아닌 서로 다 작용에 의한'},\n",
       " {'start': 300,\n",
       "  'end': 360,\n",
       "  'text': \"것들이니까 것들이니까 우리 GD가 정말 가요계에 또 정말 엄청난 영향을 좀 많이 미쳤어요. 뭐 이제 사실상 뭐 작사, 작곡, 프로듀싱 뭐 진짜 이게 지금은 또 그런 아이돌들이 많이 있어요. 프로듀싱도 하고 작곡도 하고 근데 그때만 하더라도 이런 아이돌은 사실 거의 아마 GD가 좀 최초이지 않았을까 라는 생각이 좀 들어요. 이게 뭐 이제 거짓말 하루하루 마지막 인사 판타스틱 베이비 왱뱅뱅 빅뱅뱅 그럼 교재 I'm so sorry but I love you 다가진 스마일 I don't wanna feel without you yeah 마지막 인사 빅뱅 빅뱅 빅뱅 빅뱅 빅뱅 빅뱅 빅뱅 빅뱅 빅뱅 빅뱅 빅뱅 빅뱅 빅뱅 빅뱅 빅뱅 빅뱅 빅뱅 빅뱅 빅뱅\"},\n",
       " {'start': 360,\n",
       "  'end': 420,\n",
       "  'text': '빅뱅 빅뱅 빅뱅 빅뱅 빅뱅 GD가 뭐 연이어서 히트곡들을 야 이거 정말 하고 싶다고 할 수 있는 일은 아니잖아요. 어... 저도 사실 지금 이렇게 말씀해주시면 새삼 어떻게 했지? 그러니까... 이 생각이 사실 들기도 하고 지금 다시 그대로 돌아간다고 그럴 수 있을까? 이번에 컴백하는 지금 시점에 느끼는 바도 똑같고 이제 와서 생각하면 뭐 되게 문도 너무 좋았고 열심히 했지만 원석들처럼 각자 이렇게 음들을 내는 친구들이 옆에 있었고 작업진이 있었고 해서 사실 틴틴틴 티면은 음이 되는? 좀 그런 느낌이었어요. 정말 그냥 쭈루루루룩'},\n",
       " {'start': 420,\n",
       "  'end': 480,\n",
       "  'text': '됐어요. 아니 이게 중학교 때부터 한 일주일에 한 곡씩 그런 곡 작업들을 계속 해왔다고 그래요? 래퍼는 사실 당연한 거거든요. 랩은 자기가 쓰는 게 그렇죠. 그렇다고 해요. 그래서 이제 외국의 MR이라는 음원을 다운받아서 거기에 이제 계속 잘 되든 안 되든 저랑 태양이랑 일주일에 한 곡씩 편곡을 계속해서 가사를 쓰고 반주만 있는 음원에다가 한 2, 3년을 그냥 했던 거 같아요. 어쨌든 나뒤에 이렇게 데뷔하고 나서에 자양분이 됐던 일이네요. 중학교는 거의 수련같이 그러니까요. 가사 공책을 공중히 공중 1호라고 하면 1호가 가사 공책인데 없거든요. 별로 그렇게 공중 1호가 1호가 가사 공책을'},\n",
       " {'start': 480,\n",
       "  'end': 540,\n",
       "  'text': '공중 1호가 1호가 가사 공책을 공중 1호가 1호가 가사 공책을 공중 1호가 1호가 가사 공책을 공중 1호가 곡이라는 건 저희들도 그렇습니다만 이제 뒤돌아 생각해보면 프로그램에 우리 인생이 좀 녹아있거든요. 어떤 인생이 있었던 일들이 프로그램을 쭉 보면 그게 다 녹아있어요. 우리 사실 GD도 마찬가지일 것 같아요. 곡 속에 어떤 내 인생이 조금 같이 묻어있지 않을까 하는 생각이 좀 드는데 아 정말 이게 싫은데 안 좋거나 특히 연인 사이라고 하면 헤어졌을 때나 슬플 때나 외로울 때나 사랑에 관한 그리고 이별 이별에 관한 노래는 안 좋듯 일어나면 나왔던 것 같아요. 아 그 정도로? 굳이 말하면 일기를 쓰는 것처럼 오늘의 일기잖아요. 항상 좋고 기분 좋고 밝고 이럴 때는 아무 생각이 안 나 그냥 좋죠. 너무 좋고 그래 지금 이렇게 보고 너무 날씨 좋고'},\n",
       " {'start': 540,\n",
       "  'end': 600,\n",
       "  'text': '이러면 곡이 잘 안 떠올라요? 뭐가 떠올라 그냥 아 안 돼? 이 밝은 느낌을 쓰면 안 돼? 그냥 보고 그냥 가만히 아 아 이런 아 그래 목소리를 들으면 딱 뭔가 캡쳐된 뭔가 화면 이미지로 떠올라요. 마음? 내 마음이? 네. 이게 점점 갈수록 대충 한다는 건 아니지만 점점 갈수록 요령도 생기겠고 스타일도 생기고 갈수록 나아지고는 있는데 처음에는 그냥 힘만 막 줘가지고 그냥 제 귀로 들었을 땐 거의 뭐 뭘 하면서 녹음을 했을까 하는 철봉을 해서 녹음할 것 같은? 아 그런 느낌이 좀 들어요? 목소리를 들으면? 아주 신이 나 있고 눈에서 레이저가 나올 것 같은'},\n",
       " {'start': 600,\n",
       "  'end': 660,\n",
       "  'text': '그런 느낌이 나요. 삐딱하게 같은 노래를 지금 들으면 좀 어때요? 삐딱하게는 좋죠. 아니 좋은데 그때 나를 좀 생각하면 뭔가 그런 가사 속에 내 어떤 느낌이 투영이 되잖아요. 투영이 되는 거니까. 정확히 그 비디오에 나오는 모습이 제 일상 같았어요. 그때 시절을 돌이켜보면 그때는 화가만 하고 해야 하나? 아 진짜? 근데 이게 뭔가 누구든가 특정 대상이 아닌 한 분야에서 이제 10년을 넘게 계속하다 보니까 너무 좋잖아요. 근데 잘 되니까 여러분들이 많이 사랑해 줄 수도 너무 기분은 좋지만 그 그 이면에 이면으로 돌아가서 보면 또 어떻게 보면 굉장히 공허한 상태? 근데 그거를 밖으로 누군가에게 얘기할 수 없는'},\n",
       " {'start': 660,\n",
       "  'end': 720,\n",
       "  'text': '누구의 잘못은 아니니까 근데 이게 제 자신한테도 잘못도 아니고 근데 그냥 이 상황이 아이러니 해야죠 조금 그런 것들에 대한 반항심이 됐듯 무드가 그랬던 것 같아요. 영원한 건 절대 없어 결국엔 넌 변했지 이유도 없어 진심이 없어 사랑 같은 소리 따윈 집어쳐 오늘 밤은 빛나 가게 영원한 건 절대 없어 결국엔 넌 변했지 이유도 없어 결국엔 난 결국엔 난 변했지 이유도 없어 결국엔 난 결국엔 난 혼자지 그렇잖아요 무대에서 수많은 사람들과 함께 무대에서 화려함 뒤에 묻어있는 사실 그런 노래지 않습니까? 삐딱하기라는 노래 자체가 근데 저는 궁금한 게 저도 지용씨를 보면서 스스로 뭔가를 계속 해내는 모습들이 보이거든요 계속 스스로가 노력하고 계속 이제 발전시켜 나가는데 그럼 좀 힘들 때나 그럴 때 기대는 곳은 없나요?'},\n",
       " {'start': 720,\n",
       "  'end': 780,\n",
       "  'text': '호세 호세 호세 마음껏 기대되는 곳은 없나요? 호세 호세 호세 호세 호세 호세 호세 호세 호세 호세 마음껏 기대요 잠시 기대 근데 진짜 힘들거나 지칠 때는 어떻게 하는지 흔히 그럴 때 그런 멋진 곡들이 많이 나오지 않나 하는 생각도 들어요 그게 또 그런 것도 있어요 이상하게 예전에 누가 이야기하셨더라 너무 사랑했는데 헤어져가지고 너무너무 슬픈데 그때 바로 Labor 두 생각이 곡을 써야겠다 그러는 내 자신이 스스로가 맞아요 술술 나온 술술 나온 술술 나가라고 말은 하죠. 왜냐하면 성인이 된 후에 술을 마실 수도 있고 스트레스를 푸는 그 방법을 어떻게 보면 저희는 계속해서 활동기였기 때문에 작업실에 있든 작업실이 아니라고 해도'},\n",
       " {'start': 780,\n",
       "  'end': 840,\n",
       "  'text': '바로 내일 해외를 나가서 투어 일정에 잡혀있든 아 그래요? 아니면 해외 중에 어딘가 호텔에 있든 혼자 방에서 그 생각밖에 안 나고 이걸 어딘가에 풀어야 되는데 이걸 태권이한테 말할 수는 없고 그러다 보니까 그냥 이상하게 팬을 진짜로 하면 마법처럼 이렇게 왜냐하면 너무 생생하게 지금 내 감정이 느끼는 대로 손끝으로 나오니까 그러니까 제 첫 솔로곡인데 디슬러드라는 곡인데 마른 파이브의 곡을 편곡해서 거기에 제가 쓴 건데 그거는 20분이 안 걸려서 10몇 분 딱 걸린 것 같아요 집에 와서 뭔가 그 시작하고 후루룩 하고 오늘 된 다른 날 보다 볼 때 슬퍼지니'},\n",
       " {'start': 840,\n",
       "  'end': 900,\n",
       "  'text': '네가 보고 싶다 고 이제는 더 만족한 순서 없이 돼버린 거 그건 신기해서라도 제가 말을 했던 것 같아요 그 당시 아니 이걸 내가 진짜 딱 몇 분이 걸렸다? 들어봐 이런 식이었던 것 같아요 창작을 즐길 방법? 아니 어쨌든 노래 얘기를 좀 하다 말았는데 이게 이제 대체 어떻게 될까요? 이게 어떻게 될까요? 저는 저는 저는 저는 저는 저는 저는 저는 저는 저는 저는 저는 저는 저는 저는 저는 저는 저는 저는 저는 진짜 나라'},\n",
       " {'start': 900,\n",
       "  'end': 960,\n",
       "  'text': '내가 이 노래 di 우리의 우리의 원 우리의 연주 우리의 우리의 우는 우리의 우리의 백 우리의 넘 우리의 파워 파워 파워 I got the power I got the power I got the power I got the power I got the power I got the power I got the power I got the power I got the power I got the power 뭐 여기까지밖에 안 들려줘 제가 아.. 힘이 느껴진다 역시 GD네 역시 이 목소리 그리웠어요 파파파파왕 야 이거 이 GD 이거 에? 아 나는 좀 뭐 내가 음악 전문가는 아니지만 벌써 그 아 벌써 파파파파우 여기에서 GD 이 목소리 아 귓전을 때리네 아 아 잘 돌아왔어 아우 우리 GD 웰컴백입니다'},\n",
       " {'start': 960, 'end': 1020, 'text': '웰컴백 아 참 정말'}]"
      ]
     },
     "execution_count": 14,
     "metadata": {},
     "output_type": "execute_result"
    }
   ],
   "source": [
    "minute_res"
   ]
  },
  {
   "cell_type": "code",
   "execution_count": null,
   "id": "9de3df49-35ff-4a1f-88f7-694210938ad4",
   "metadata": {},
   "outputs": [],
   "source": []
  },
  {
   "cell_type": "code",
   "execution_count": null,
   "id": "9989ac8a-cd42-407c-a6f5-7a29942965ac",
   "metadata": {},
   "outputs": [],
   "source": []
  },
  {
   "cell_type": "code",
   "execution_count": null,
   "id": "656bfc30-bd1a-4df6-9c78-6aee9fe6e11d",
   "metadata": {},
   "outputs": [],
   "source": []
  },
  {
   "cell_type": "markdown",
   "id": "33433059-33d1-4b65-bd9b-9da219f9e455",
   "metadata": {},
   "source": [
    "# Description 확인"
   ]
  },
  {
   "cell_type": "code",
   "execution_count": 5,
   "id": "647f1a69-e958-46aa-8dfe-cef13134d778",
   "metadata": {},
   "outputs": [],
   "source": [
    "def extract_hashtags(text):\n",
    "    words = text.replace('\\n', ' ').split()\n",
    "    \n",
    "    hashtags = [word.strip() for word in words if word.startswith('#')]\n",
    "    \n",
    "    return hashtags"
   ]
  },
  {
   "cell_type": "code",
   "execution_count": 6,
   "id": "ce423f37-0319-4c0b-bab6-250c15126dfb",
   "metadata": {},
   "outputs": [
    {
     "data": {
      "text/plain": [
       "['#유퀴즈온더블럭', '#유퀴즈', '#유재석', '#조세호', '#티빙에서스트리밍']"
      ]
     },
     "execution_count": 6,
     "metadata": {},
     "output_type": "execute_result"
    }
   ],
   "source": [
    "extract_hashtags(yt.description)"
   ]
  },
  {
   "cell_type": "code",
   "execution_count": null,
   "id": "22dbb24e-8470-4d4b-9b63-b1aad57e1265",
   "metadata": {},
   "outputs": [],
   "source": []
  },
  {
   "cell_type": "code",
   "execution_count": null,
   "id": "de9147a1-8921-40d2-bb4c-492cfd9307f2",
   "metadata": {},
   "outputs": [],
   "source": []
  },
  {
   "cell_type": "code",
   "execution_count": null,
   "id": "ac1cbcd5-d683-4d8d-9172-07ee584c588e",
   "metadata": {},
   "outputs": [],
   "source": []
  },
  {
   "cell_type": "code",
   "execution_count": null,
   "id": "cda53240-bba4-4da6-b40e-88c8b671c839",
   "metadata": {},
   "outputs": [],
   "source": []
  },
  {
   "cell_type": "code",
   "execution_count": 18,
   "id": "734f9809-64bd-47c7-94e2-0399fe1a0d64",
   "metadata": {},
   "outputs": [],
   "source": [
    "a={70: {'start': 0,\n",
    "  'end': 70,\n",
    "  'text': 'll'},\n",
    " 120: {'start': 60,\n",
    "  'end': 120,\n",
    "  'text': 'ss'},\n",
    " 100: {'start': 120,\n",
    "  'end': 100,\n",
    "  'text': 'ssss'},\n",
    "  }\n",
    "b={item['end']: item for item in minute_res}"
   ]
  },
  {
   "cell_type": "code",
   "execution_count": 20,
   "id": "72dabf96-e788-415d-87a9-61be3cee9e53",
   "metadata": {},
   "outputs": [
    {
     "data": {
      "text/plain": [
       "{60,\n",
       " 70,\n",
       " 100,\n",
       " 120,\n",
       " 180,\n",
       " 240,\n",
       " 300,\n",
       " 360,\n",
       " 420,\n",
       " 480,\n",
       " 540,\n",
       " 600,\n",
       " 660,\n",
       " 720,\n",
       " 780,\n",
       " 840,\n",
       " 900,\n",
       " 960,\n",
       " 1020}"
      ]
     },
     "execution_count": 20,
     "metadata": {},
     "output_type": "execute_result"
    }
   ],
   "source": [
    "set(a.keys()) | set(b.keys())"
   ]
  },
  {
   "cell_type": "code",
   "execution_count": 25,
   "id": "5faf3b28-177e-46c3-849a-c9f8ae1cc2fa",
   "metadata": {},
   "outputs": [
    {
     "name": "stdout",
     "output_type": "stream",
     "text": [
      "None\n"
     ]
    }
   ],
   "source": [
    "print(a.get(3,None))"
   ]
  },
  {
   "cell_type": "code",
   "execution_count": null,
   "id": "af6b9d04-7823-4d56-b299-ad3d811167af",
   "metadata": {},
   "outputs": [],
   "source": []
  }
 ],
 "metadata": {
  "kernelspec": {
   "display_name": "Python 3 (ipykernel)",
   "language": "python",
   "name": "python3"
  },
  "language_info": {
   "codemirror_mode": {
    "name": "ipython",
    "version": 3
   },
   "file_extension": ".py",
   "mimetype": "text/x-python",
   "name": "python",
   "nbconvert_exporter": "python",
   "pygments_lexer": "ipython3",
   "version": "3.10.12"
  }
 },
 "nbformat": 4,
 "nbformat_minor": 5
}
