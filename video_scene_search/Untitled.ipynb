{
 "cells": [
  {
   "cell_type": "code",
   "execution_count": 4,
   "id": "5a4b65ac-7f7d-47dd-b1c0-c33add3f9c3c",
   "metadata": {},
   "outputs": [
    {
     "data": {
      "text/plain": [
       "[1]"
      ]
     },
     "execution_count": 4,
     "metadata": {},
     "output_type": "execute_result"
    }
   ],
   "source": [
    "[i for idx,i in enumerate([1,2,3,4]) if idx==0 ]"
   ]
  },
  {
   "cell_type": "code",
   "execution_count": 5,
   "id": "71338196-31c4-4419-87db-e091e2f69a5f",
   "metadata": {},
   "outputs": [
    {
     "name": "stdout",
     "output_type": "stream",
     "text": [
      "0:02:00\n"
     ]
    }
   ],
   "source": [
    "def seconds_to_time(seconds):\n",
    "    hours = seconds // 3600 \n",
    "    minutes = (seconds % 3600) // 60  \n",
    "    seconds = seconds % 60  \n",
    "    \n",
    "    return f\"{hours}:{minutes:02d}:{seconds:02d}\"\n",
    "\n",
    "# 테스트\n",
    "print(seconds_to_time(120))  # 출력: 0:02:00"
   ]
  },
  {
   "cell_type": "code",
   "execution_count": 9,
   "id": "4a7de749-10ba-4d3c-9c39-a370610fa1ce",
   "metadata": {},
   "outputs": [],
   "source": [
    "import weaviate\n",
    "client = weaviate.Client(\"http://115.71.28.105:2448\") "
   ]
  },
  {
   "cell_type": "code",
   "execution_count": 11,
   "id": "9aa5584a-daf3-4446-ac81-2fca71b50f71",
   "metadata": {},
   "outputs": [],
   "source": [
    "# class_obj = {\n",
    "#     \"class\": \"B_with_title\",\n",
    "#     \"vectorizer\": \"none\",\n",
    "# }\n",
    "\n",
    "# # Add the class to the schema\n",
    "# client.schema.create_class(class_obj)\n",
    "\n",
    "client.schema.delete_class(\"B_with_title\")"
   ]
  },
  {
   "cell_type": "code",
   "execution_count": 12,
   "id": "d7019a50-e129-4b04-a317-1041e8f3061a",
   "metadata": {},
   "outputs": [
    {
     "data": {
      "text/plain": [
       "'A_h_kkkk'"
      ]
     },
     "execution_count": 12,
     "metadata": {},
     "output_type": "execute_result"
    }
   ],
   "source": [
    "\"a_h_kkkk\".capitalize()"
   ]
  },
  {
   "cell_type": "code",
   "execution_count": 14,
   "id": "e29153a3-b856-468f-b80e-93814d4fbdee",
   "metadata": {},
   "outputs": [],
   "source": [
    "def get_weaviate_classes(client):\n",
    "    try:\n",
    "        schema = client.schema.get()\n",
    "        \n",
    "        classes = schema.get('classes', [])\n",
    "        \n",
    "        class_info = []\n",
    "        for cls in classes:\n",
    "            info = {\n",
    "                'className': cls.get('class'),\n",
    "                'description': cls.get('description'),\n",
    "                'vectorizer': cls.get('vectorizer'),\n",
    "                'properties': [prop.get('name') for prop in cls.get('properties', [])]\n",
    "            }\n",
    "            class_info.append(info)\n",
    "            \n",
    "        return class_info\n",
    "        \n",
    "    except Exception as e:\n",
    "        print(f\"Error: {e}\")\n",
    "        return []"
   ]
  },
  {
   "cell_type": "code",
   "execution_count": 15,
   "id": "b62d54db-b814-4149-b46e-c0a6e06ab6ad",
   "metadata": {},
   "outputs": [
    {
     "data": {
      "text/plain": [
       "[{'className': 'Stt_test',\n",
       "  'description': None,\n",
       "  'vectorizer': 'none',\n",
       "  'properties': ['start', 'end', 'text', 'url', 'vid_title']},\n",
       " {'className': 'Captioning_test',\n",
       "  'description': None,\n",
       "  'vectorizer': 'none',\n",
       "  'properties': ['time', 'caption', 'url', 'vid_title']}]"
      ]
     },
     "execution_count": 15,
     "metadata": {},
     "output_type": "execute_result"
    }
   ],
   "source": [
    "get_weaviate_classes(client)"
   ]
  },
  {
   "cell_type": "code",
   "execution_count": null,
   "id": "ea1e7ab5-e571-4edc-ac2b-d27d0b398d02",
   "metadata": {},
   "outputs": [],
   "source": []
  }
 ],
 "metadata": {
  "kernelspec": {
   "display_name": "Python 3 (ipykernel)",
   "language": "python",
   "name": "python3"
  },
  "language_info": {
   "codemirror_mode": {
    "name": "ipython",
    "version": 3
   },
   "file_extension": ".py",
   "mimetype": "text/x-python",
   "name": "python",
   "nbconvert_exporter": "python",
   "pygments_lexer": "ipython3",
   "version": "3.10.12"
  }
 },
 "nbformat": 4,
 "nbformat_minor": 5
}
